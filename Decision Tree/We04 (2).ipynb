{
 "cells": [
  {
   "cell_type": "code",
   "execution_count": 85,
   "id": "4fa6b678-3dfa-4d8d-a121-725e807cff1c",
   "metadata": {},
   "outputs": [],
   "source": [
    "# import numpy and pandas libraries\n",
    "import numpy as np\n",
    "import pandas as pd\n",
    "from sklearn.preprocessing import LabelEncoder\n",
    "from sklearn.model_selection import train_test_split\n",
    "from sklearn import preprocessing\n",
    "from sklearn.impute import SimpleImputer\n",
    "from sklearn.svm import SVC\n",
    "from sklearn.linear_model import LogisticRegression\n",
    "from sklearn.metrics import confusion_matrix\n",
    "from sklearn.tree import DecisionTreeClassifier\n",
    "from sklearn.model_selection import GridSearchCV, RandomizedSearchCV\n",
    "from scipy import stats\n",
    "np.random.seed(1)"
   ]
  },
  {
   "attachments": {},
   "cell_type": "markdown",
   "id": "35dbe4ff",
   "metadata": {},
   "source": [
    "There are so many libraries we need to import and based on the need to will do the needful going further. "
   ]
  },
  {
   "cell_type": "code",
   "execution_count": 86,
   "id": "236d1541-064c-4c83-943e-1e2fd5d41d67",
   "metadata": {},
   "outputs": [
    {
     "data": {
      "text/html": [
       "<div>\n",
       "<style scoped>\n",
       "    .dataframe tbody tr th:only-of-type {\n",
       "        vertical-align: middle;\n",
       "    }\n",
       "\n",
       "    .dataframe tbody tr th {\n",
       "        vertical-align: top;\n",
       "    }\n",
       "\n",
       "    .dataframe thead th {\n",
       "        text-align: right;\n",
       "    }\n",
       "</style>\n",
       "<table border=\"1\" class=\"dataframe\">\n",
       "  <thead>\n",
       "    <tr style=\"text-align: right;\">\n",
       "      <th></th>\n",
       "      <th>ID</th>\n",
       "      <th>Age</th>\n",
       "      <th>Experience</th>\n",
       "      <th>Income</th>\n",
       "      <th>ZIP Code</th>\n",
       "      <th>Family</th>\n",
       "      <th>CCAvg</th>\n",
       "      <th>Education</th>\n",
       "      <th>Mortgage</th>\n",
       "      <th>Personal Loan</th>\n",
       "      <th>Securities Account</th>\n",
       "      <th>CD Account</th>\n",
       "      <th>Online</th>\n",
       "      <th>CreditCard</th>\n",
       "    </tr>\n",
       "  </thead>\n",
       "  <tbody>\n",
       "    <tr>\n",
       "      <th>0</th>\n",
       "      <td>1</td>\n",
       "      <td>25</td>\n",
       "      <td>1</td>\n",
       "      <td>49</td>\n",
       "      <td>91107</td>\n",
       "      <td>4</td>\n",
       "      <td>1.6</td>\n",
       "      <td>1</td>\n",
       "      <td>0</td>\n",
       "      <td>0</td>\n",
       "      <td>1</td>\n",
       "      <td>0</td>\n",
       "      <td>0</td>\n",
       "      <td>0</td>\n",
       "    </tr>\n",
       "    <tr>\n",
       "      <th>1</th>\n",
       "      <td>2</td>\n",
       "      <td>45</td>\n",
       "      <td>19</td>\n",
       "      <td>34</td>\n",
       "      <td>90089</td>\n",
       "      <td>3</td>\n",
       "      <td>1.5</td>\n",
       "      <td>1</td>\n",
       "      <td>0</td>\n",
       "      <td>0</td>\n",
       "      <td>1</td>\n",
       "      <td>0</td>\n",
       "      <td>0</td>\n",
       "      <td>0</td>\n",
       "    </tr>\n",
       "    <tr>\n",
       "      <th>2</th>\n",
       "      <td>3</td>\n",
       "      <td>39</td>\n",
       "      <td>15</td>\n",
       "      <td>11</td>\n",
       "      <td>94720</td>\n",
       "      <td>1</td>\n",
       "      <td>1.0</td>\n",
       "      <td>1</td>\n",
       "      <td>0</td>\n",
       "      <td>0</td>\n",
       "      <td>0</td>\n",
       "      <td>0</td>\n",
       "      <td>0</td>\n",
       "      <td>0</td>\n",
       "    </tr>\n",
       "  </tbody>\n",
       "</table>\n",
       "</div>"
      ],
      "text/plain": [
       "   ID  Age  Experience  Income  ZIP Code  Family  CCAvg  Education  Mortgage  \\\n",
       "0   1   25           1      49     91107       4    1.6          1         0   \n",
       "1   2   45          19      34     90089       3    1.5          1         0   \n",
       "2   3   39          15      11     94720       1    1.0          1         0   \n",
       "\n",
       "   Personal Loan  Securities Account  CD Account  Online  CreditCard  \n",
       "0              0                   1           0       0           0  \n",
       "1              0                   1           0       0           0  \n",
       "2              0                   0           0       0           0  "
      ]
     },
     "execution_count": 86,
     "metadata": {},
     "output_type": "execute_result"
    }
   ],
   "source": [
    "# load data\n",
    "universal = pd.read_csv(\"C:/Users/ssand/Downloads/UniversalBank.csv\")\n",
    "universal.head(3)"
   ]
  },
  {
   "attachments": {},
   "cell_type": "markdown",
   "id": "75b878ed",
   "metadata": {},
   "source": [
    "first step is we need to  load data"
   ]
  },
  {
   "cell_type": "code",
   "execution_count": 41,
   "id": "918d9568-8021-40a1-90da-3abee710fecc",
   "metadata": {},
   "outputs": [
    {
     "name": "stdout",
     "output_type": "stream",
     "text": [
      "<class 'pandas.core.frame.DataFrame'>\n",
      "RangeIndex: 5000 entries, 0 to 4999\n",
      "Data columns (total 14 columns):\n",
      " #   Column              Non-Null Count  Dtype  \n",
      "---  ------              --------------  -----  \n",
      " 0   ID                  5000 non-null   int64  \n",
      " 1   Age                 5000 non-null   int64  \n",
      " 2   Experience          5000 non-null   int64  \n",
      " 3   Income              5000 non-null   int64  \n",
      " 4   ZIP Code            5000 non-null   int64  \n",
      " 5   Family              5000 non-null   int64  \n",
      " 6   CCAvg               5000 non-null   float64\n",
      " 7   Education           5000 non-null   int64  \n",
      " 8   Mortgage            5000 non-null   int64  \n",
      " 9   Personal Loan       5000 non-null   int64  \n",
      " 10  Securities Account  5000 non-null   int64  \n",
      " 11  CD Account          5000 non-null   int64  \n",
      " 12  Online              5000 non-null   int64  \n",
      " 13  CreditCard          5000 non-null   int64  \n",
      "dtypes: float64(1), int64(13)\n",
      "memory usage: 547.0 KB\n"
     ]
    }
   ],
   "source": [
    "# generate a basic summary of the data\n",
    "universal.info()"
   ]
  },
  {
   "cell_type": "code",
   "execution_count": null,
   "id": "f2c180ce",
   "metadata": {},
   "outputs": [],
   "source": [
    "The summary of the data base where we can see all the details."
   ]
  },
  {
   "cell_type": "code",
   "execution_count": 42,
   "id": "6fb3ab3f-cfe6-46c7-936c-6c9d76f83605",
   "metadata": {},
   "outputs": [
    {
     "data": {
      "text/html": [
       "<div>\n",
       "<style scoped>\n",
       "    .dataframe tbody tr th:only-of-type {\n",
       "        vertical-align: middle;\n",
       "    }\n",
       "\n",
       "    .dataframe tbody tr th {\n",
       "        vertical-align: top;\n",
       "    }\n",
       "\n",
       "    .dataframe thead th {\n",
       "        text-align: right;\n",
       "    }\n",
       "</style>\n",
       "<table border=\"1\" class=\"dataframe\">\n",
       "  <thead>\n",
       "    <tr style=\"text-align: right;\">\n",
       "      <th></th>\n",
       "      <th>ID</th>\n",
       "      <th>Age</th>\n",
       "      <th>Experience</th>\n",
       "      <th>Income</th>\n",
       "      <th>ZIP Code</th>\n",
       "      <th>Family</th>\n",
       "      <th>CCAvg</th>\n",
       "      <th>Education</th>\n",
       "      <th>Mortgage</th>\n",
       "      <th>Personal Loan</th>\n",
       "      <th>Securities Account</th>\n",
       "      <th>CD Account</th>\n",
       "      <th>Online</th>\n",
       "      <th>CreditCard</th>\n",
       "    </tr>\n",
       "  </thead>\n",
       "  <tbody>\n",
       "    <tr>\n",
       "      <th>count</th>\n",
       "      <td>5000.000000</td>\n",
       "      <td>5000.000000</td>\n",
       "      <td>5000.000000</td>\n",
       "      <td>5000.000000</td>\n",
       "      <td>5000.000000</td>\n",
       "      <td>5000.000000</td>\n",
       "      <td>5000.000000</td>\n",
       "      <td>5000.000000</td>\n",
       "      <td>5000.000000</td>\n",
       "      <td>5000.000000</td>\n",
       "      <td>5000.000000</td>\n",
       "      <td>5000.00000</td>\n",
       "      <td>5000.000000</td>\n",
       "      <td>5000.000000</td>\n",
       "    </tr>\n",
       "    <tr>\n",
       "      <th>mean</th>\n",
       "      <td>2500.500000</td>\n",
       "      <td>45.338400</td>\n",
       "      <td>20.104600</td>\n",
       "      <td>73.774200</td>\n",
       "      <td>93152.503000</td>\n",
       "      <td>2.396400</td>\n",
       "      <td>1.937938</td>\n",
       "      <td>1.881000</td>\n",
       "      <td>56.498800</td>\n",
       "      <td>0.096000</td>\n",
       "      <td>0.104400</td>\n",
       "      <td>0.06040</td>\n",
       "      <td>0.596800</td>\n",
       "      <td>0.294000</td>\n",
       "    </tr>\n",
       "    <tr>\n",
       "      <th>std</th>\n",
       "      <td>1443.520003</td>\n",
       "      <td>11.463166</td>\n",
       "      <td>11.467954</td>\n",
       "      <td>46.033729</td>\n",
       "      <td>2121.852197</td>\n",
       "      <td>1.147663</td>\n",
       "      <td>1.747659</td>\n",
       "      <td>0.839869</td>\n",
       "      <td>101.713802</td>\n",
       "      <td>0.294621</td>\n",
       "      <td>0.305809</td>\n",
       "      <td>0.23825</td>\n",
       "      <td>0.490589</td>\n",
       "      <td>0.455637</td>\n",
       "    </tr>\n",
       "    <tr>\n",
       "      <th>min</th>\n",
       "      <td>1.000000</td>\n",
       "      <td>23.000000</td>\n",
       "      <td>-3.000000</td>\n",
       "      <td>8.000000</td>\n",
       "      <td>9307.000000</td>\n",
       "      <td>1.000000</td>\n",
       "      <td>0.000000</td>\n",
       "      <td>1.000000</td>\n",
       "      <td>0.000000</td>\n",
       "      <td>0.000000</td>\n",
       "      <td>0.000000</td>\n",
       "      <td>0.00000</td>\n",
       "      <td>0.000000</td>\n",
       "      <td>0.000000</td>\n",
       "    </tr>\n",
       "    <tr>\n",
       "      <th>25%</th>\n",
       "      <td>1250.750000</td>\n",
       "      <td>35.000000</td>\n",
       "      <td>10.000000</td>\n",
       "      <td>39.000000</td>\n",
       "      <td>91911.000000</td>\n",
       "      <td>1.000000</td>\n",
       "      <td>0.700000</td>\n",
       "      <td>1.000000</td>\n",
       "      <td>0.000000</td>\n",
       "      <td>0.000000</td>\n",
       "      <td>0.000000</td>\n",
       "      <td>0.00000</td>\n",
       "      <td>0.000000</td>\n",
       "      <td>0.000000</td>\n",
       "    </tr>\n",
       "    <tr>\n",
       "      <th>50%</th>\n",
       "      <td>2500.500000</td>\n",
       "      <td>45.000000</td>\n",
       "      <td>20.000000</td>\n",
       "      <td>64.000000</td>\n",
       "      <td>93437.000000</td>\n",
       "      <td>2.000000</td>\n",
       "      <td>1.500000</td>\n",
       "      <td>2.000000</td>\n",
       "      <td>0.000000</td>\n",
       "      <td>0.000000</td>\n",
       "      <td>0.000000</td>\n",
       "      <td>0.00000</td>\n",
       "      <td>1.000000</td>\n",
       "      <td>0.000000</td>\n",
       "    </tr>\n",
       "    <tr>\n",
       "      <th>75%</th>\n",
       "      <td>3750.250000</td>\n",
       "      <td>55.000000</td>\n",
       "      <td>30.000000</td>\n",
       "      <td>98.000000</td>\n",
       "      <td>94608.000000</td>\n",
       "      <td>3.000000</td>\n",
       "      <td>2.500000</td>\n",
       "      <td>3.000000</td>\n",
       "      <td>101.000000</td>\n",
       "      <td>0.000000</td>\n",
       "      <td>0.000000</td>\n",
       "      <td>0.00000</td>\n",
       "      <td>1.000000</td>\n",
       "      <td>1.000000</td>\n",
       "    </tr>\n",
       "    <tr>\n",
       "      <th>max</th>\n",
       "      <td>5000.000000</td>\n",
       "      <td>67.000000</td>\n",
       "      <td>43.000000</td>\n",
       "      <td>224.000000</td>\n",
       "      <td>96651.000000</td>\n",
       "      <td>4.000000</td>\n",
       "      <td>10.000000</td>\n",
       "      <td>3.000000</td>\n",
       "      <td>635.000000</td>\n",
       "      <td>1.000000</td>\n",
       "      <td>1.000000</td>\n",
       "      <td>1.00000</td>\n",
       "      <td>1.000000</td>\n",
       "      <td>1.000000</td>\n",
       "    </tr>\n",
       "  </tbody>\n",
       "</table>\n",
       "</div>"
      ],
      "text/plain": [
       "                ID          Age   Experience       Income      ZIP Code  \\\n",
       "count  5000.000000  5000.000000  5000.000000  5000.000000   5000.000000   \n",
       "mean   2500.500000    45.338400    20.104600    73.774200  93152.503000   \n",
       "std    1443.520003    11.463166    11.467954    46.033729   2121.852197   \n",
       "min       1.000000    23.000000    -3.000000     8.000000   9307.000000   \n",
       "25%    1250.750000    35.000000    10.000000    39.000000  91911.000000   \n",
       "50%    2500.500000    45.000000    20.000000    64.000000  93437.000000   \n",
       "75%    3750.250000    55.000000    30.000000    98.000000  94608.000000   \n",
       "max    5000.000000    67.000000    43.000000   224.000000  96651.000000   \n",
       "\n",
       "            Family        CCAvg    Education     Mortgage  Personal Loan  \\\n",
       "count  5000.000000  5000.000000  5000.000000  5000.000000    5000.000000   \n",
       "mean      2.396400     1.937938     1.881000    56.498800       0.096000   \n",
       "std       1.147663     1.747659     0.839869   101.713802       0.294621   \n",
       "min       1.000000     0.000000     1.000000     0.000000       0.000000   \n",
       "25%       1.000000     0.700000     1.000000     0.000000       0.000000   \n",
       "50%       2.000000     1.500000     2.000000     0.000000       0.000000   \n",
       "75%       3.000000     2.500000     3.000000   101.000000       0.000000   \n",
       "max       4.000000    10.000000     3.000000   635.000000       1.000000   \n",
       "\n",
       "       Securities Account  CD Account       Online   CreditCard  \n",
       "count         5000.000000  5000.00000  5000.000000  5000.000000  \n",
       "mean             0.104400     0.06040     0.596800     0.294000  \n",
       "std              0.305809     0.23825     0.490589     0.455637  \n",
       "min              0.000000     0.00000     0.000000     0.000000  \n",
       "25%              0.000000     0.00000     0.000000     0.000000  \n",
       "50%              0.000000     0.00000     1.000000     0.000000  \n",
       "75%              0.000000     0.00000     1.000000     1.000000  \n",
       "max              1.000000     1.00000     1.000000     1.000000  "
      ]
     },
     "execution_count": 42,
     "metadata": {},
     "output_type": "execute_result"
    }
   ],
   "source": [
    "# generate a statistical summary of the numeric value in the data\n",
    "universal.describe()"
   ]
  },
  {
   "attachments": {},
   "cell_type": "markdown",
   "id": "c62276fe",
   "metadata": {},
   "source": [
    "we can see whether there are categorical variables in the data set we we find any we can do encoding to nutralize them."
   ]
  },
  {
   "cell_type": "code",
   "execution_count": 43,
   "id": "910f64e2-91eb-4305-980f-c15b32e89816",
   "metadata": {},
   "outputs": [
    {
     "data": {
      "text/plain": [
       "ID                    0\n",
       "Age                   0\n",
       "Experience            0\n",
       "Income                0\n",
       "ZIP Code              0\n",
       "Family                0\n",
       "CCAvg                 0\n",
       "Education             0\n",
       "Mortgage              0\n",
       "Personal Loan         0\n",
       "Securities Account    0\n",
       "CD Account            0\n",
       "Online                0\n",
       "CreditCard            0\n",
       "dtype: int64"
      ]
     },
     "execution_count": 43,
     "metadata": {},
     "output_type": "execute_result"
    }
   ],
   "source": [
    "# Check the missing values by summing the total na's for each variable\n",
    "universal.isna().sum()"
   ]
  },
  {
   "cell_type": "markdown",
   "id": "4e1c8347-0a58-4c9b-a9f2-1fef300d952b",
   "metadata": {},
   "source": [
    "#### Drop any columns/variables we will not be using"
   ]
  },
  {
   "cell_type": "code",
   "execution_count": 87,
   "id": "50b7273b-5b81-4f15-a3be-e0cc3bbd5582",
   "metadata": {},
   "outputs": [],
   "source": [
    "universal.drop(['ID','ZIP Code'], axis=1, inplace = True)"
   ]
  },
  {
   "attachments": {},
   "cell_type": "markdown",
   "id": "7887a367",
   "metadata": {},
   "source": [
    "There are so many variables inside the data . So, we will remove the unwanted data by dropping them."
   ]
  },
  {
   "cell_type": "markdown",
   "id": "d2cac2fe-416e-4db1-83bd-5aa5de4150af",
   "metadata": {},
   "source": [
    "### 4.2 Split data (train/test)"
   ]
  },
  {
   "cell_type": "code",
   "execution_count": 46,
   "id": "50259278-7fca-4a16-b4e9-3bb3d52dce5c",
   "metadata": {},
   "outputs": [],
   "source": [
    "# split the data into validation and training set\n",
    "train_df, test_df = train_test_split(universal, test_size=0.3)\n",
    "\n",
    "# to reduce repetition in later code, create variables to represent the columns\n",
    "# that are our predictors and target\n",
    "target = 'Securities Account'\n",
    "predictors = list(universal.columns)\n",
    "predictors.remove(target)"
   ]
  },
  {
   "cell_type": "code",
   "execution_count": null,
   "id": "f694cead",
   "metadata": {},
   "outputs": [],
   "source": [
    "We are splitting the data as train and test "
   ]
  },
  {
   "cell_type": "markdown",
   "id": "3b71cfff-acaa-4b63-8686-a4b8d710ec1a",
   "metadata": {},
   "source": [
    "#### Standardize numeric values"
   ]
  },
  {
   "cell_type": "code",
   "execution_count": 47,
   "id": "7b1758f8-cd89-4627-97b9-8846a9692a34",
   "metadata": {},
   "outputs": [],
   "source": [
    "# create a standard scaler and fit it to the training set of predictors\n",
    "scaler = preprocessing.StandardScaler()\n",
    "cols_to_stdize = predictors                \n",
    "               \n",
    "# Transform the predictors of training and validation sets\n",
    "train_df[cols_to_stdize] = scaler.fit_transform(train_df[cols_to_stdize]) # train_predictors is not a numpy array\n",
    "\n",
    "\n",
    "test_df[cols_to_stdize] = scaler.transform(test_df[cols_to_stdize]) # validation_target is now a series object"
   ]
  },
  {
   "cell_type": "code",
   "execution_count": null,
   "id": "99882932",
   "metadata": {},
   "outputs": [],
   "source": [
    "we are standardizing the values here to make the process smooth."
   ]
  },
  {
   "cell_type": "code",
   "execution_count": 48,
   "id": "69098bb4",
   "metadata": {},
   "outputs": [
    {
     "data": {
      "text/html": [
       "<div>\n",
       "<style scoped>\n",
       "    .dataframe tbody tr th:only-of-type {\n",
       "        vertical-align: middle;\n",
       "    }\n",
       "\n",
       "    .dataframe tbody tr th {\n",
       "        vertical-align: top;\n",
       "    }\n",
       "\n",
       "    .dataframe thead th {\n",
       "        text-align: right;\n",
       "    }\n",
       "</style>\n",
       "<table border=\"1\" class=\"dataframe\">\n",
       "  <thead>\n",
       "    <tr style=\"text-align: right;\">\n",
       "      <th></th>\n",
       "      <th>Age</th>\n",
       "      <th>Experience</th>\n",
       "      <th>Income</th>\n",
       "      <th>Family</th>\n",
       "      <th>CCAvg</th>\n",
       "      <th>Education</th>\n",
       "      <th>Mortgage</th>\n",
       "      <th>Personal Loan</th>\n",
       "      <th>Securities Account</th>\n",
       "      <th>CD Account</th>\n",
       "      <th>Online</th>\n",
       "      <th>CreditCard</th>\n",
       "    </tr>\n",
       "  </thead>\n",
       "  <tbody>\n",
       "    <tr>\n",
       "      <th>1334</th>\n",
       "      <td>0.135977</td>\n",
       "      <td>0.156137</td>\n",
       "      <td>-0.837058</td>\n",
       "      <td>-0.344955</td>\n",
       "      <td>-0.365708</td>\n",
       "      <td>-1.055713</td>\n",
       "      <td>-0.557707</td>\n",
       "      <td>-0.323186</td>\n",
       "      <td>0</td>\n",
       "      <td>-0.258356</td>\n",
       "      <td>0.831648</td>\n",
       "      <td>-0.650648</td>\n",
       "    </tr>\n",
       "    <tr>\n",
       "      <th>4768</th>\n",
       "      <td>-0.646212</td>\n",
       "      <td>-0.538578</td>\n",
       "      <td>-0.750406</td>\n",
       "      <td>-1.217944</td>\n",
       "      <td>0.037876</td>\n",
       "      <td>0.135453</td>\n",
       "      <td>-0.557707</td>\n",
       "      <td>-0.323186</td>\n",
       "      <td>0</td>\n",
       "      <td>-0.258356</td>\n",
       "      <td>0.831648</td>\n",
       "      <td>-0.650648</td>\n",
       "    </tr>\n",
       "    <tr>\n",
       "      <th>65</th>\n",
       "      <td>1.178895</td>\n",
       "      <td>1.285050</td>\n",
       "      <td>1.242590</td>\n",
       "      <td>-1.217944</td>\n",
       "      <td>1.075664</td>\n",
       "      <td>-1.055713</td>\n",
       "      <td>-0.557707</td>\n",
       "      <td>-0.323186</td>\n",
       "      <td>0</td>\n",
       "      <td>-0.258356</td>\n",
       "      <td>0.831648</td>\n",
       "      <td>1.536929</td>\n",
       "    </tr>\n",
       "    <tr>\n",
       "      <th>177</th>\n",
       "      <td>-1.428400</td>\n",
       "      <td>-1.493812</td>\n",
       "      <td>-0.187168</td>\n",
       "      <td>1.401022</td>\n",
       "      <td>-0.077434</td>\n",
       "      <td>0.135453</td>\n",
       "      <td>1.869923</td>\n",
       "      <td>-0.323186</td>\n",
       "      <td>0</td>\n",
       "      <td>-0.258356</td>\n",
       "      <td>-1.202432</td>\n",
       "      <td>-0.650648</td>\n",
       "    </tr>\n",
       "    <tr>\n",
       "      <th>4489</th>\n",
       "      <td>-0.559302</td>\n",
       "      <td>-0.625418</td>\n",
       "      <td>-1.140340</td>\n",
       "      <td>0.528033</td>\n",
       "      <td>-0.999912</td>\n",
       "      <td>0.135453</td>\n",
       "      <td>-0.557707</td>\n",
       "      <td>-0.323186</td>\n",
       "      <td>0</td>\n",
       "      <td>-0.258356</td>\n",
       "      <td>0.831648</td>\n",
       "      <td>-0.650648</td>\n",
       "    </tr>\n",
       "    <tr>\n",
       "      <th>...</th>\n",
       "      <td>...</td>\n",
       "      <td>...</td>\n",
       "      <td>...</td>\n",
       "      <td>...</td>\n",
       "      <td>...</td>\n",
       "      <td>...</td>\n",
       "      <td>...</td>\n",
       "      <td>...</td>\n",
       "      <td>...</td>\n",
       "      <td>...</td>\n",
       "      <td>...</td>\n",
       "      <td>...</td>\n",
       "    </tr>\n",
       "    <tr>\n",
       "      <th>2895</th>\n",
       "      <td>1.265805</td>\n",
       "      <td>1.371889</td>\n",
       "      <td>-0.750406</td>\n",
       "      <td>1.401022</td>\n",
       "      <td>-0.365708</td>\n",
       "      <td>0.135453</td>\n",
       "      <td>0.835195</td>\n",
       "      <td>-0.323186</td>\n",
       "      <td>0</td>\n",
       "      <td>-0.258356</td>\n",
       "      <td>0.831648</td>\n",
       "      <td>-0.650648</td>\n",
       "    </tr>\n",
       "    <tr>\n",
       "      <th>2763</th>\n",
       "      <td>0.831255</td>\n",
       "      <td>0.937692</td>\n",
       "      <td>-1.313644</td>\n",
       "      <td>1.401022</td>\n",
       "      <td>-0.711638</td>\n",
       "      <td>-1.055713</td>\n",
       "      <td>-0.557707</td>\n",
       "      <td>-0.323186</td>\n",
       "      <td>0</td>\n",
       "      <td>-0.258356</td>\n",
       "      <td>0.831648</td>\n",
       "      <td>-0.650648</td>\n",
       "    </tr>\n",
       "    <tr>\n",
       "      <th>905</th>\n",
       "      <td>0.049067</td>\n",
       "      <td>0.156137</td>\n",
       "      <td>-0.988699</td>\n",
       "      <td>-1.217944</td>\n",
       "      <td>-0.538673</td>\n",
       "      <td>-1.055713</td>\n",
       "      <td>0.278035</td>\n",
       "      <td>-0.323186</td>\n",
       "      <td>0</td>\n",
       "      <td>-0.258356</td>\n",
       "      <td>0.831648</td>\n",
       "      <td>1.536929</td>\n",
       "    </tr>\n",
       "    <tr>\n",
       "      <th>3980</th>\n",
       "      <td>0.049067</td>\n",
       "      <td>0.156137</td>\n",
       "      <td>0.332744</td>\n",
       "      <td>1.401022</td>\n",
       "      <td>-0.308053</td>\n",
       "      <td>0.135453</td>\n",
       "      <td>-0.557707</td>\n",
       "      <td>-0.323186</td>\n",
       "      <td>0</td>\n",
       "      <td>-0.258356</td>\n",
       "      <td>0.831648</td>\n",
       "      <td>-0.650648</td>\n",
       "    </tr>\n",
       "    <tr>\n",
       "      <th>235</th>\n",
       "      <td>-0.646212</td>\n",
       "      <td>-1.059615</td>\n",
       "      <td>-0.057190</td>\n",
       "      <td>1.401022</td>\n",
       "      <td>-0.077434</td>\n",
       "      <td>1.326618</td>\n",
       "      <td>-0.557707</td>\n",
       "      <td>-0.323186</td>\n",
       "      <td>0</td>\n",
       "      <td>-0.258356</td>\n",
       "      <td>0.831648</td>\n",
       "      <td>-0.650648</td>\n",
       "    </tr>\n",
       "  </tbody>\n",
       "</table>\n",
       "<p>3500 rows × 12 columns</p>\n",
       "</div>"
      ],
      "text/plain": [
       "           Age  Experience    Income    Family     CCAvg  Education  Mortgage  \\\n",
       "1334  0.135977    0.156137 -0.837058 -0.344955 -0.365708  -1.055713 -0.557707   \n",
       "4768 -0.646212   -0.538578 -0.750406 -1.217944  0.037876   0.135453 -0.557707   \n",
       "65    1.178895    1.285050  1.242590 -1.217944  1.075664  -1.055713 -0.557707   \n",
       "177  -1.428400   -1.493812 -0.187168  1.401022 -0.077434   0.135453  1.869923   \n",
       "4489 -0.559302   -0.625418 -1.140340  0.528033 -0.999912   0.135453 -0.557707   \n",
       "...        ...         ...       ...       ...       ...        ...       ...   \n",
       "2895  1.265805    1.371889 -0.750406  1.401022 -0.365708   0.135453  0.835195   \n",
       "2763  0.831255    0.937692 -1.313644  1.401022 -0.711638  -1.055713 -0.557707   \n",
       "905   0.049067    0.156137 -0.988699 -1.217944 -0.538673  -1.055713  0.278035   \n",
       "3980  0.049067    0.156137  0.332744  1.401022 -0.308053   0.135453 -0.557707   \n",
       "235  -0.646212   -1.059615 -0.057190  1.401022 -0.077434   1.326618 -0.557707   \n",
       "\n",
       "      Personal Loan  Securities Account  CD Account    Online  CreditCard  \n",
       "1334      -0.323186                   0   -0.258356  0.831648   -0.650648  \n",
       "4768      -0.323186                   0   -0.258356  0.831648   -0.650648  \n",
       "65        -0.323186                   0   -0.258356  0.831648    1.536929  \n",
       "177       -0.323186                   0   -0.258356 -1.202432   -0.650648  \n",
       "4489      -0.323186                   0   -0.258356  0.831648   -0.650648  \n",
       "...             ...                 ...         ...       ...         ...  \n",
       "2895      -0.323186                   0   -0.258356  0.831648   -0.650648  \n",
       "2763      -0.323186                   0   -0.258356  0.831648   -0.650648  \n",
       "905       -0.323186                   0   -0.258356  0.831648    1.536929  \n",
       "3980      -0.323186                   0   -0.258356  0.831648   -0.650648  \n",
       "235       -0.323186                   0   -0.258356  0.831648   -0.650648  \n",
       "\n",
       "[3500 rows x 12 columns]"
      ]
     },
     "execution_count": 48,
     "metadata": {},
     "output_type": "execute_result"
    }
   ],
   "source": [
    "train_df"
   ]
  },
  {
   "cell_type": "markdown",
   "id": "ddf64482",
   "metadata": {},
   "source": [
    "### Save our data into train and test splits inorder to read directly from a csv file for next time"
   ]
  },
  {
   "cell_type": "code",
   "execution_count": 49,
   "id": "31b1384b-ea45-4309-a568-8cc2ef020659",
   "metadata": {},
   "outputs": [],
   "source": [
    "train_X = train_df[predictors]\n",
    "train_y = train_df[target] # train_target is now a series objecttrain_df.to_csv('airbnb_train_df.csv', index=False)\n",
    "test_X = test_df[predictors]\n",
    "test_y = test_df[target] # validation_target is now a series object\n",
    "\n",
    "train_df.to_csv('universal_train_df_Securities Account.csv', index=False)\n",
    "train_X.to_csv('universal_train_X_Securities Account.csv', index=False)\n",
    "train_y.to_csv('universal_train_y_Securities Account.csv', index=False)\n",
    "test_df.to_csv('universal_test_df_Securities Account.csv', index=False)\n",
    "test_X.to_csv('universal_test_X_Securities Account.csv', index=False)\n",
    "test_y.to_csv('universal_test_y_Securities Account.csv', index=False)"
   ]
  },
  {
   "cell_type": "code",
   "execution_count": 50,
   "id": "d6d06eaa-fd92-4864-8ddd-644e607d4431",
   "metadata": {},
   "outputs": [],
   "source": [
    "performance = pd.DataFrame({\"model\": [], \"Accuracy\": [], \"Precision\": [], \"Recall\": [], \"F1\": []})"
   ]
  },
  {
   "attachments": {},
   "cell_type": "markdown",
   "id": "b176c1f5",
   "metadata": {},
   "source": [
    "From the above We done Cleaning the data and loading the data to our system  with that we also performmed the splitting of data to train and test.\n",
    "we are fitting various models with our data set ."
   ]
  },
  {
   "cell_type": "markdown",
   "id": "dbe8cd3b-6c3c-49ee-9e1c-b0792f05df4f",
   "metadata": {},
   "source": [
    "###  Fit and test a Logistic Regression model"
   ]
  },
  {
   "cell_type": "code",
   "execution_count": 51,
   "id": "99aa3dd4-7eaf-428b-8f0a-3ceef22951fb",
   "metadata": {},
   "outputs": [],
   "source": [
    "log_reg_model = LogisticRegression(penalty='none', max_iter=900)\n",
    "_ = log_reg_model.fit(train_X, np.ravel(train_y))"
   ]
  },
  {
   "cell_type": "code",
   "execution_count": 52,
   "id": "88e130f0-e053-4081-8c4b-0db713e29e14",
   "metadata": {},
   "outputs": [
    {
     "data": {
      "text/html": [
       "<div>\n",
       "<style scoped>\n",
       "    .dataframe tbody tr th:only-of-type {\n",
       "        vertical-align: middle;\n",
       "    }\n",
       "\n",
       "    .dataframe tbody tr th {\n",
       "        vertical-align: top;\n",
       "    }\n",
       "\n",
       "    .dataframe thead th {\n",
       "        text-align: right;\n",
       "    }\n",
       "</style>\n",
       "<table border=\"1\" class=\"dataframe\">\n",
       "  <thead>\n",
       "    <tr style=\"text-align: right;\">\n",
       "      <th></th>\n",
       "      <th>model</th>\n",
       "      <th>Accuracy</th>\n",
       "      <th>Precision</th>\n",
       "      <th>Recall</th>\n",
       "      <th>F1</th>\n",
       "    </tr>\n",
       "  </thead>\n",
       "  <tbody>\n",
       "    <tr>\n",
       "      <th>0</th>\n",
       "      <td>default logistic</td>\n",
       "      <td>0.902</td>\n",
       "      <td>0.578947</td>\n",
       "      <td>0.211538</td>\n",
       "      <td>0.309859</td>\n",
       "    </tr>\n",
       "  </tbody>\n",
       "</table>\n",
       "</div>"
      ],
      "text/plain": [
       "              model  Accuracy  Precision    Recall        F1\n",
       "0  default logistic     0.902   0.578947  0.211538  0.309859"
      ]
     },
     "execution_count": 52,
     "metadata": {},
     "output_type": "execute_result"
    }
   ],
   "source": [
    "model_preds = log_reg_model.predict(test_X)\n",
    "c_matrix = confusion_matrix(test_y, model_preds)\n",
    "TP = c_matrix[1][1]\n",
    "TN = c_matrix[0][0]\n",
    "FP = c_matrix[0][1]\n",
    "FN = c_matrix[1][0]\n",
    "performance = pd.concat([performance, pd.DataFrame({'model':\"default logistic\", \n",
    "                                                    'Accuracy': [(TP+TN)/(TP+TN+FP+FN)], \n",
    "                                                    'Precision': [TP/(TP+FP)], \n",
    "                                                    'Recall': [TP/(TP+FN)], \n",
    "                                                    'F1': [2*TP/(2*TP+FP+FN)]\n",
    "                                                     }, index=[0])])\n",
    "performance"
   ]
  },
  {
   "attachments": {},
   "cell_type": "markdown",
   "id": "c1f3fd3a",
   "metadata": {},
   "source": [
    "We can see the precision for log regression model is 0.57"
   ]
  },
  {
   "cell_type": "markdown",
   "id": "dd8c2506",
   "metadata": {},
   "source": [
    "##Change to liblinear solver"
   ]
  },
  {
   "cell_type": "code",
   "execution_count": 53,
   "id": "bbc76e91",
   "metadata": {},
   "outputs": [],
   "source": [
    "log_reg_liblin_model = LogisticRegression(solver='liblinear').fit(train_X, np.ravel(train_y))"
   ]
  },
  {
   "attachments": {},
   "cell_type": "markdown",
   "id": "04ac75e4",
   "metadata": {},
   "source": [
    "We are chaning from linear to lib linear model here"
   ]
  },
  {
   "cell_type": "code",
   "execution_count": 54,
   "id": "a0f2302f",
   "metadata": {},
   "outputs": [
    {
     "data": {
      "text/html": [
       "<div>\n",
       "<style scoped>\n",
       "    .dataframe tbody tr th:only-of-type {\n",
       "        vertical-align: middle;\n",
       "    }\n",
       "\n",
       "    .dataframe tbody tr th {\n",
       "        vertical-align: top;\n",
       "    }\n",
       "\n",
       "    .dataframe thead th {\n",
       "        text-align: right;\n",
       "    }\n",
       "</style>\n",
       "<table border=\"1\" class=\"dataframe\">\n",
       "  <thead>\n",
       "    <tr style=\"text-align: right;\">\n",
       "      <th></th>\n",
       "      <th>model</th>\n",
       "      <th>Accuracy</th>\n",
       "      <th>Precision</th>\n",
       "      <th>Recall</th>\n",
       "      <th>F1</th>\n",
       "    </tr>\n",
       "  </thead>\n",
       "  <tbody>\n",
       "    <tr>\n",
       "      <th>0</th>\n",
       "      <td>default logistic</td>\n",
       "      <td>0.902</td>\n",
       "      <td>0.578947</td>\n",
       "      <td>0.211538</td>\n",
       "      <td>0.309859</td>\n",
       "    </tr>\n",
       "    <tr>\n",
       "      <th>0</th>\n",
       "      <td>liblinear logistic</td>\n",
       "      <td>0.902</td>\n",
       "      <td>0.578947</td>\n",
       "      <td>0.211538</td>\n",
       "      <td>0.309859</td>\n",
       "    </tr>\n",
       "  </tbody>\n",
       "</table>\n",
       "</div>"
      ],
      "text/plain": [
       "                model  Accuracy  Precision    Recall        F1\n",
       "0    default logistic     0.902   0.578947  0.211538  0.309859\n",
       "0  liblinear logistic     0.902   0.578947  0.211538  0.309859"
      ]
     },
     "execution_count": 54,
     "metadata": {},
     "output_type": "execute_result"
    }
   ],
   "source": [
    "model_preds = log_reg_liblin_model.predict(test_X)\n",
    "c_matrix = confusion_matrix(test_y, model_preds)\n",
    "TP = c_matrix[1][1]\n",
    "TN = c_matrix[0][0]\n",
    "FP = c_matrix[0][1]\n",
    "FN = c_matrix[1][0]\n",
    "performance = pd.concat([performance, pd.DataFrame({'model':\"liblinear logistic\", \n",
    "                                                    'Accuracy': [(TP+TN)/(TP+TN+FP+FN)], \n",
    "                                                    'Precision': [TP/(TP+FP)], \n",
    "                                                    'Recall': [TP/(TP+FN)], \n",
    "                                                    'F1': [2*TP/(2*TP+FP+FN)]\n",
    "                                                     }, index=[0])])\n",
    "performance"
   ]
  },
  {
   "attachments": {},
   "cell_type": "markdown",
   "id": "e448269c",
   "metadata": {},
   "source": [
    "The precision for logistic regression model using lib linear is 0.57"
   ]
  },
  {
   "cell_type": "markdown",
   "id": "3927b80a",
   "metadata": {},
   "source": [
    "#L2 Regularization"
   ]
  },
  {
   "cell_type": "code",
   "execution_count": 55,
   "id": "b910a28c",
   "metadata": {},
   "outputs": [],
   "source": [
    "log_reg_L2_model = LogisticRegression(penalty='l2', max_iter=900)\n",
    "_ = log_reg_L2_model.fit(train_X, np.ravel(train_y))"
   ]
  },
  {
   "attachments": {},
   "cell_type": "markdown",
   "id": "cf015db7",
   "metadata": {},
   "source": [
    "now we are doing l2 regularization "
   ]
  },
  {
   "cell_type": "code",
   "execution_count": 56,
   "id": "1bb4921f",
   "metadata": {},
   "outputs": [
    {
     "data": {
      "text/html": [
       "<div>\n",
       "<style scoped>\n",
       "    .dataframe tbody tr th:only-of-type {\n",
       "        vertical-align: middle;\n",
       "    }\n",
       "\n",
       "    .dataframe tbody tr th {\n",
       "        vertical-align: top;\n",
       "    }\n",
       "\n",
       "    .dataframe thead th {\n",
       "        text-align: right;\n",
       "    }\n",
       "</style>\n",
       "<table border=\"1\" class=\"dataframe\">\n",
       "  <thead>\n",
       "    <tr style=\"text-align: right;\">\n",
       "      <th></th>\n",
       "      <th>model</th>\n",
       "      <th>Accuracy</th>\n",
       "      <th>Precision</th>\n",
       "      <th>Recall</th>\n",
       "      <th>F1</th>\n",
       "    </tr>\n",
       "  </thead>\n",
       "  <tbody>\n",
       "    <tr>\n",
       "      <th>0</th>\n",
       "      <td>default logistic</td>\n",
       "      <td>0.902</td>\n",
       "      <td>0.578947</td>\n",
       "      <td>0.211538</td>\n",
       "      <td>0.309859</td>\n",
       "    </tr>\n",
       "    <tr>\n",
       "      <th>0</th>\n",
       "      <td>liblinear logistic</td>\n",
       "      <td>0.902</td>\n",
       "      <td>0.578947</td>\n",
       "      <td>0.211538</td>\n",
       "      <td>0.309859</td>\n",
       "    </tr>\n",
       "    <tr>\n",
       "      <th>0</th>\n",
       "      <td>L2 logistic</td>\n",
       "      <td>0.902</td>\n",
       "      <td>0.578947</td>\n",
       "      <td>0.211538</td>\n",
       "      <td>0.309859</td>\n",
       "    </tr>\n",
       "  </tbody>\n",
       "</table>\n",
       "</div>"
      ],
      "text/plain": [
       "                model  Accuracy  Precision    Recall        F1\n",
       "0    default logistic     0.902   0.578947  0.211538  0.309859\n",
       "0  liblinear logistic     0.902   0.578947  0.211538  0.309859\n",
       "0         L2 logistic     0.902   0.578947  0.211538  0.309859"
      ]
     },
     "execution_count": 56,
     "metadata": {},
     "output_type": "execute_result"
    }
   ],
   "source": [
    "model_preds = log_reg_L2_model.predict(test_X)\n",
    "c_matrix = confusion_matrix(test_y, model_preds)\n",
    "TP = c_matrix[1][1]\n",
    "TN = c_matrix[0][0]\n",
    "FP = c_matrix[0][1]\n",
    "FN = c_matrix[1][0]\n",
    "performance = pd.concat([performance, pd.DataFrame({'model':\"L2 logistic\", \n",
    "                                                    'Accuracy': [(TP+TN)/(TP+TN+FP+FN)], \n",
    "                                                    'Precision': [TP/(TP+FP)], \n",
    "                                                    'Recall': [TP/(TP+FN)], \n",
    "                                                    'F1': [2*TP/(2*TP+FP+FN)]\n",
    "                                                     }, index=[0])])\n",
    "performance"
   ]
  },
  {
   "attachments": {},
   "cell_type": "markdown",
   "id": "9b93cfb0",
   "metadata": {},
   "source": [
    "The precision for logistic regression model l2 is 0.57"
   ]
  },
  {
   "cell_type": "markdown",
   "id": "1d9583af",
   "metadata": {},
   "source": [
    "##L1 Regularization"
   ]
  },
  {
   "cell_type": "code",
   "execution_count": 57,
   "id": "72c2a27b",
   "metadata": {},
   "outputs": [],
   "source": [
    "log_reg_L1_model = LogisticRegression(solver='liblinear', penalty='l1')\n",
    "_ = log_reg_L1_model.fit(train_X, np.ravel(train_y))"
   ]
  },
  {
   "attachments": {},
   "cell_type": "markdown",
   "id": "e1ed8e96",
   "metadata": {},
   "source": [
    "l1 regularization "
   ]
  },
  {
   "cell_type": "code",
   "execution_count": 58,
   "id": "2c7fa803",
   "metadata": {},
   "outputs": [
    {
     "data": {
      "text/html": [
       "<div>\n",
       "<style scoped>\n",
       "    .dataframe tbody tr th:only-of-type {\n",
       "        vertical-align: middle;\n",
       "    }\n",
       "\n",
       "    .dataframe tbody tr th {\n",
       "        vertical-align: top;\n",
       "    }\n",
       "\n",
       "    .dataframe thead th {\n",
       "        text-align: right;\n",
       "    }\n",
       "</style>\n",
       "<table border=\"1\" class=\"dataframe\">\n",
       "  <thead>\n",
       "    <tr style=\"text-align: right;\">\n",
       "      <th></th>\n",
       "      <th>model</th>\n",
       "      <th>Accuracy</th>\n",
       "      <th>Precision</th>\n",
       "      <th>Recall</th>\n",
       "      <th>F1</th>\n",
       "    </tr>\n",
       "  </thead>\n",
       "  <tbody>\n",
       "    <tr>\n",
       "      <th>0</th>\n",
       "      <td>default logistic</td>\n",
       "      <td>0.902000</td>\n",
       "      <td>0.578947</td>\n",
       "      <td>0.211538</td>\n",
       "      <td>0.309859</td>\n",
       "    </tr>\n",
       "    <tr>\n",
       "      <th>0</th>\n",
       "      <td>liblinear logistic</td>\n",
       "      <td>0.902000</td>\n",
       "      <td>0.578947</td>\n",
       "      <td>0.211538</td>\n",
       "      <td>0.309859</td>\n",
       "    </tr>\n",
       "    <tr>\n",
       "      <th>0</th>\n",
       "      <td>L2 logistic</td>\n",
       "      <td>0.902000</td>\n",
       "      <td>0.578947</td>\n",
       "      <td>0.211538</td>\n",
       "      <td>0.309859</td>\n",
       "    </tr>\n",
       "    <tr>\n",
       "      <th>0</th>\n",
       "      <td>L1 logistic</td>\n",
       "      <td>0.900667</td>\n",
       "      <td>0.561404</td>\n",
       "      <td>0.205128</td>\n",
       "      <td>0.300469</td>\n",
       "    </tr>\n",
       "  </tbody>\n",
       "</table>\n",
       "</div>"
      ],
      "text/plain": [
       "                model  Accuracy  Precision    Recall        F1\n",
       "0    default logistic  0.902000   0.578947  0.211538  0.309859\n",
       "0  liblinear logistic  0.902000   0.578947  0.211538  0.309859\n",
       "0         L2 logistic  0.902000   0.578947  0.211538  0.309859\n",
       "0         L1 logistic  0.900667   0.561404  0.205128  0.300469"
      ]
     },
     "execution_count": 58,
     "metadata": {},
     "output_type": "execute_result"
    }
   ],
   "source": [
    "model_preds = log_reg_L1_model.predict(test_X)\n",
    "c_matrix = confusion_matrix(test_y, model_preds)\n",
    "TP = c_matrix[1][1]\n",
    "TN = c_matrix[0][0]\n",
    "FP = c_matrix[0][1]\n",
    "FN = c_matrix[1][0]\n",
    "performance = pd.concat([performance, pd.DataFrame({'model':\"L1 logistic\", \n",
    "                                                    'Accuracy': [(TP+TN)/(TP+TN+FP+FN)], \n",
    "                                                    'Precision': [TP/(TP+FP)], \n",
    "                                                    'Recall': [TP/(TP+FN)], \n",
    "                                                    'F1': [2*TP/(2*TP+FP+FN)]\n",
    "                                                     }, index=[0])])\n",
    "performance"
   ]
  },
  {
   "attachments": {},
   "cell_type": "markdown",
   "id": "cbfa1ff1",
   "metadata": {},
   "source": [
    "The precision for logistic regression model using l1 is 0.57"
   ]
  },
  {
   "cell_type": "markdown",
   "id": "e3b93a9e",
   "metadata": {},
   "source": [
    "##Elastic Net Regularization"
   ]
  },
  {
   "cell_type": "code",
   "execution_count": 59,
   "id": "41cd099c",
   "metadata": {},
   "outputs": [],
   "source": [
    "log_reg_elastic_model = LogisticRegression(solver='saga', penalty='elasticnet', l1_ratio=0.5, max_iter=1000)\n",
    "_ = log_reg_elastic_model.fit(train_X, np.ravel(train_y))"
   ]
  },
  {
   "cell_type": "code",
   "execution_count": 60,
   "id": "3c6223e6",
   "metadata": {},
   "outputs": [
    {
     "data": {
      "text/html": [
       "<div>\n",
       "<style scoped>\n",
       "    .dataframe tbody tr th:only-of-type {\n",
       "        vertical-align: middle;\n",
       "    }\n",
       "\n",
       "    .dataframe tbody tr th {\n",
       "        vertical-align: top;\n",
       "    }\n",
       "\n",
       "    .dataframe thead th {\n",
       "        text-align: right;\n",
       "    }\n",
       "</style>\n",
       "<table border=\"1\" class=\"dataframe\">\n",
       "  <thead>\n",
       "    <tr style=\"text-align: right;\">\n",
       "      <th></th>\n",
       "      <th>model</th>\n",
       "      <th>Accuracy</th>\n",
       "      <th>Precision</th>\n",
       "      <th>Recall</th>\n",
       "      <th>F1</th>\n",
       "    </tr>\n",
       "  </thead>\n",
       "  <tbody>\n",
       "    <tr>\n",
       "      <th>0</th>\n",
       "      <td>default logistic</td>\n",
       "      <td>0.902000</td>\n",
       "      <td>0.578947</td>\n",
       "      <td>0.211538</td>\n",
       "      <td>0.309859</td>\n",
       "    </tr>\n",
       "    <tr>\n",
       "      <th>0</th>\n",
       "      <td>liblinear logistic</td>\n",
       "      <td>0.902000</td>\n",
       "      <td>0.578947</td>\n",
       "      <td>0.211538</td>\n",
       "      <td>0.309859</td>\n",
       "    </tr>\n",
       "    <tr>\n",
       "      <th>0</th>\n",
       "      <td>L2 logistic</td>\n",
       "      <td>0.902000</td>\n",
       "      <td>0.578947</td>\n",
       "      <td>0.211538</td>\n",
       "      <td>0.309859</td>\n",
       "    </tr>\n",
       "    <tr>\n",
       "      <th>0</th>\n",
       "      <td>L1 logistic</td>\n",
       "      <td>0.900667</td>\n",
       "      <td>0.561404</td>\n",
       "      <td>0.205128</td>\n",
       "      <td>0.300469</td>\n",
       "    </tr>\n",
       "    <tr>\n",
       "      <th>0</th>\n",
       "      <td>Elastic logistic</td>\n",
       "      <td>0.902000</td>\n",
       "      <td>0.578947</td>\n",
       "      <td>0.211538</td>\n",
       "      <td>0.309859</td>\n",
       "    </tr>\n",
       "  </tbody>\n",
       "</table>\n",
       "</div>"
      ],
      "text/plain": [
       "                model  Accuracy  Precision    Recall        F1\n",
       "0    default logistic  0.902000   0.578947  0.211538  0.309859\n",
       "0  liblinear logistic  0.902000   0.578947  0.211538  0.309859\n",
       "0         L2 logistic  0.902000   0.578947  0.211538  0.309859\n",
       "0         L1 logistic  0.900667   0.561404  0.205128  0.300469\n",
       "0    Elastic logistic  0.902000   0.578947  0.211538  0.309859"
      ]
     },
     "execution_count": 60,
     "metadata": {},
     "output_type": "execute_result"
    }
   ],
   "source": [
    "model_preds = log_reg_elastic_model.predict(test_X)\n",
    "c_matrix = confusion_matrix(test_y, model_preds)\n",
    "TP = c_matrix[1][1]\n",
    "TN = c_matrix[0][0]\n",
    "FP = c_matrix[0][1]\n",
    "FN = c_matrix[1][0]\n",
    "performance = pd.concat([performance, pd.DataFrame({'model':\"Elastic logistic\", \n",
    "                                                    'Accuracy': [(TP+TN)/(TP+TN+FP+FN)], \n",
    "                                                    'Precision': [TP/(TP+FP)], \n",
    "                                                    'Recall': [TP/(TP+FN)], \n",
    "                                                    'F1': [2*TP/(2*TP+FP+FN)]\n",
    "                                                     }, index=[0])])\n",
    "performance"
   ]
  },
  {
   "attachments": {},
   "cell_type": "markdown",
   "id": "4217e626",
   "metadata": {},
   "source": [
    "The precision for logistic regression model using elastic net is 0.57"
   ]
  },
  {
   "cell_type": "code",
   "execution_count": 61,
   "metadata": {},
   "outputs": [
    {
     "name": "stdout",
     "output_type": "stream",
     "text": [
      "Fitting 5 folds for each of 6 candidates, totalling 30 fits\n",
      "The best precision score is 0.6273429436696224\n",
      "... with parameters: {'penalty': 'l2'}\n"
     ]
    },
    {
     "name": "stderr",
     "output_type": "stream",
     "text": [
      "C:\\Users\\ssand\\AppData\\Roaming\\Python\\Python39\\site-packages\\sklearn\\model_selection\\_validation.py:378: FitFailedWarning: \n",
      "5 fits failed out of a total of 30.\n",
      "The score on these train-test partitions for these parameters will be set to nan.\n",
      "If these failures are not expected, you can try to debug them by setting error_score='raise'.\n",
      "\n",
      "Below are more details about the failures:\n",
      "--------------------------------------------------------------------------------\n",
      "5 fits failed with the following error:\n",
      "Traceback (most recent call last):\n",
      "  File \"C:\\Users\\ssand\\AppData\\Roaming\\Python\\Python39\\site-packages\\sklearn\\model_selection\\_validation.py\", line 686, in _fit_and_score\n",
      "    estimator.fit(X_train, y_train, **fit_params)\n",
      "  File \"C:\\Users\\ssand\\AppData\\Roaming\\Python\\Python39\\site-packages\\sklearn\\linear_model\\_logistic.py\", line 1091, in fit\n",
      "    solver = _check_solver(self.solver, self.penalty, self.dual)\n",
      "  File \"C:\\Users\\ssand\\AppData\\Roaming\\Python\\Python39\\site-packages\\sklearn\\linear_model\\_logistic.py\", line 61, in _check_solver\n",
      "    raise ValueError(\n",
      "ValueError: Solver lbfgs supports only 'l2' or 'none' penalties, got l1 penalty.\n",
      "\n",
      "  warnings.warn(some_fits_failed_message, FitFailedWarning)\n",
      "C:\\Users\\ssand\\AppData\\Roaming\\Python\\Python39\\site-packages\\sklearn\\model_selection\\_search.py:953: UserWarning: One or more of the test scores are non-finite: [       nan 0.62734294 0.62734294 0.62734294 0.62734294 0.62734294]\n",
      "  warnings.warn(\n",
      "C:\\Users\\ssand\\AppData\\Roaming\\Python\\Python39\\site-packages\\sklearn\\model_selection\\_search.py:953: UserWarning: One or more of the train scores are non-finite: [       nan 0.64452639 0.64452639 0.64619868 0.64619868 0.64619868]\n",
      "  warnings.warn(\n"
     ]
    }
   ],
   "source": [
    "score_measure = \"precision\"\n",
    "kfolds = 5\n",
    "\n",
    "param_grid = [{'penalty':['l1','l2']}, \n",
    "              {'C':[1, 10, 100, 1000]}]\n",
    "\n",
    "lr = LogisticRegression()\n",
    "grid_search = GridSearchCV(estimator =lr, param_grid=param_grid, cv=kfolds, \n",
    "                           scoring=score_measure, verbose=1, n_jobs=-1,  # n_jobs=-1 will utilize all available CPUs \n",
    "                           return_train_score=True)\n",
    "\n",
    "_ = grid_search.fit(train_X, train_y)\n",
    "\n",
    "print(f\"The best {score_measure} score is {grid_search.best_score_}\")\n",
    "print(f\"... with parameters: {grid_search.best_params_}\")\n",
    "\n",
    "bestRecallTree = grid_search.best_estimator_"
   ]
  },
  {
   "cell_type": "code",
   "execution_count": 62,
   "id": "c94e0546",
   "metadata": {},
   "outputs": [
    {
     "name": "stdout",
     "output_type": "stream",
     "text": [
      "Fitting 5 folds for each of 4 candidates, totalling 20 fits\n",
      "The best precision score is 0.6273429436696224\n",
      "... with parameters: {'C': 1}\n"
     ]
    },
    {
     "name": "stderr",
     "output_type": "stream",
     "text": [
      "C:\\Users\\ssand\\AppData\\Roaming\\Python\\Python39\\site-packages\\sklearn\\model_selection\\_search.py:306: UserWarning: The total space of parameters 4 is smaller than n_iter=300. Running 4 iterations. For exhaustive searches, use GridSearchCV.\n",
      "  warnings.warn(\n"
     ]
    }
   ],
   "source": [
    "score_measure = \"precision\"\n",
    "kfolds = 5\n",
    "\n",
    "param_grid = [\n",
    "              {'C':[1, 10, 100, 1000]}]\n",
    "\n",
    "\n",
    "gs = LogisticRegression()\n",
    "rand_search = RandomizedSearchCV(estimator = gs, param_distributions=param_grid, cv=kfolds, n_iter=300,\n",
    "                           scoring=score_measure, verbose=1, n_jobs=-1,  # n_jobs=-1 will utilize all available CPUs \n",
    "                           return_train_score=True)\n",
    "_ = rand_search.fit(train_X, train_y)\n",
    "\n",
    "print(f\"The best {score_measure} score is {rand_search.best_score_}\")\n",
    "print(f\"... with parameters: {rand_search.best_params_}\")\n",
    "\n",
    "bestRecall= rand_search.best_estimator_"
   ]
  },
  {
   "attachments": {},
   "cell_type": "markdown",
   "id": "9edccf1b",
   "metadata": {},
   "source": [
    "before doing random and grid we got the precision as 0.57 with all the logisttic regression models and later we did and grid and random search we got an precison value of 0.62 which is higher compare to other values."
   ]
  },
  {
   "cell_type": "markdown",
   "id": "5052da2d-0d92-4f1c-bf71-5d167d75bd05",
   "metadata": {},
   "source": [
    "SVM linear model"
   ]
  },
  {
   "cell_type": "code",
   "execution_count": 63,
   "id": "dd952824-e051-45b3-85e1-3e3651414bde",
   "metadata": {},
   "outputs": [],
   "source": [
    "svm_lin_model = SVC(kernel=\"linear\")\n",
    "_ = svm_lin_model.fit(train_X, np.ravel(train_y))\n",
    "\n",
    "model_preds = svm_lin_model.predict(test_X)\n",
    "c_matrix = confusion_matrix(test_y, model_preds)\n",
    "TP = c_matrix[1][1]\n",
    "TN = c_matrix[0][0]\n",
    "FP = c_matrix[0][1]\n",
    "FN = c_matrix[1][0]\n",
    "performance = pd.concat([performance, pd.DataFrame({'model':\"svm linear\", \n",
    "                                                    'Accuracy': [(TP+TN)/(TP+TN+FP+FN)], \n",
    "                                                    'Precision': [TP/(TP+FP)], \n",
    "                                                    'Recall': [TP/(TP+FN)], \n",
    "                                                    'F1': [2*TP/(2*TP+FP+FN)]\n",
    "                                                     }, index=[0])])"
   ]
  },
  {
   "attachments": {},
   "cell_type": "markdown",
   "id": "997ae3dc",
   "metadata": {},
   "source": [
    " Performming SVM linear model "
   ]
  },
  {
   "cell_type": "code",
   "execution_count": 64,
   "id": "c4b3e0d8",
   "metadata": {},
   "outputs": [
    {
     "name": "stdout",
     "output_type": "stream",
     "text": [
      "Fitting 5 folds for each of 4 candidates, totalling 20 fits\n",
      "The best precision score is 0.6825570548059303\n",
      "... with parameters: {'C': 10}\n"
     ]
    }
   ],
   "source": [
    "score_measure = \"precision\"\n",
    "kfolds = 5\n",
    "\n",
    "param_grid = [  {'C':[1, 10, 100, 1000]}]\n",
    "\n",
    "sm =SVC()\n",
    "grid_search = GridSearchCV(estimator =sm, param_grid=param_grid, cv=kfolds, \n",
    "                           scoring=score_measure, verbose=1, n_jobs=-1,  # n_jobs=-1 will utilize all available CPUs \n",
    "                           return_train_score=True)\n",
    "\n",
    "_ = grid_search.fit(train_X, train_y)\n",
    "\n",
    "print(f\"The best {score_measure} score is {grid_search.best_score_}\")\n",
    "print(f\"... with parameters: {grid_search.best_params_}\")\n",
    "\n",
    "bestRecallTree = grid_search.best_estimator_"
   ]
  },
  {
   "cell_type": "code",
   "execution_count": 65,
   "id": "55331bb1",
   "metadata": {},
   "outputs": [
    {
     "name": "stderr",
     "output_type": "stream",
     "text": [
      "C:\\Users\\ssand\\AppData\\Roaming\\Python\\Python39\\site-packages\\sklearn\\model_selection\\_search.py:306: UserWarning: The total space of parameters 4 is smaller than n_iter=300. Running 4 iterations. For exhaustive searches, use GridSearchCV.\n",
      "  warnings.warn(\n"
     ]
    },
    {
     "name": "stdout",
     "output_type": "stream",
     "text": [
      "Fitting 5 folds for each of 4 candidates, totalling 20 fits\n",
      "The best precision score is 0.6825570548059303\n",
      "... with parameters: {'C': 10}\n"
     ]
    }
   ],
   "source": [
    "score_measure = \"precision\"\n",
    "kfolds = 5\n",
    "\n",
    "param_grid = [\n",
    "              {'C':[1, 10, 100, 1000]}]\n",
    "\n",
    "\n",
    "gs = SVC()\n",
    "rand_search = RandomizedSearchCV(estimator = gs, param_distributions=param_grid, cv=kfolds, n_iter=300,\n",
    "                           scoring=score_measure, verbose=1, n_jobs=-1,  # n_jobs=-1 will utilize all available CPUs \n",
    "                           return_train_score=True)\n",
    "_ = rand_search.fit(train_X, train_y)\n",
    "\n",
    "print(f\"The best {score_measure} score is {rand_search.best_score_}\")\n",
    "print(f\"... with parameters: {rand_search.best_params_}\")\n",
    "\n",
    "bestRecall= rand_search.best_estimator_"
   ]
  },
  {
   "attachments": {},
   "cell_type": "markdown",
   "id": "db662df3",
   "metadata": {},
   "source": [
    "we can see the precision fro Both grid and random for Svm using linear kernel is 0.68"
   ]
  },
  {
   "cell_type": "markdown",
   "id": "3789d33c-8e61-46bb-97c9-67ecd771408a",
   "metadata": {},
   "source": [
    "SVM with rbf kernel"
   ]
  },
  {
   "cell_type": "code",
   "execution_count": 66,
   "id": "c79e0a4a-0933-4b74-bfb7-3e39cef5c6b1",
   "metadata": {},
   "outputs": [],
   "source": [
    "svm_rbf_model = SVC(kernel=\"rbf\", C=10, gamma='scale')\n",
    "_ = svm_rbf_model.fit(train_X, np.ravel(train_y))\n",
    "\n",
    "model_preds = svm_rbf_model.predict(test_X)\n",
    "c_matrix = confusion_matrix(test_y, model_preds)\n",
    "TP = c_matrix[1][1]\n",
    "TN = c_matrix[0][0]\n",
    "FP = c_matrix[0][1]\n",
    "FN = c_matrix[1][0]\n",
    "performance = pd.concat([performance, pd.DataFrame({'model':\"rbf svm\", \n",
    "                                                    'Accuracy': [(TP+TN)/(TP+TN+FP+FN)], \n",
    "                                                    'Precision': [TP/(TP+FP)], \n",
    "                                                    'Recall': [TP/(TP+FN)], \n",
    "                                                    'F1': [2*TP/(2*TP+FP+FN)]\n",
    "                                                     }, index=[0])])"
   ]
  },
  {
   "cell_type": "code",
   "execution_count": 67,
   "id": "3ea03b29",
   "metadata": {},
   "outputs": [
    {
     "name": "stdout",
     "output_type": "stream",
     "text": [
      "Fitting 5 folds for each of 4 candidates, totalling 20 fits\n",
      "The best precision score is 0.6825570548059303\n",
      "... with parameters: {'C': 10}\n"
     ]
    }
   ],
   "source": [
    "score_measure = \"precision\"\n",
    "kfolds = 5\n",
    "\n",
    "param_grid = [\n",
    "              {'C':[1, 10, 100, 1000]}]\n",
    "\n",
    "Sk = SVC()\n",
    "grid_search = GridSearchCV(estimator =Sk, param_grid=param_grid, cv=kfolds, \n",
    "                           scoring=score_measure, verbose=1, n_jobs=-1,  # n_jobs=-1 will utilize all available CPUs \n",
    "                           return_train_score=True)\n",
    "\n",
    "_ = grid_search.fit(train_X, train_y)\n",
    "\n",
    "print(f\"The best {score_measure} score is {grid_search.best_score_}\")\n",
    "print(f\"... with parameters: {grid_search.best_params_}\")\n",
    "\n",
    "bestRecallTree = grid_search.best_estimator_"
   ]
  },
  {
   "cell_type": "code",
   "execution_count": 68,
   "id": "b25f8711",
   "metadata": {},
   "outputs": [
    {
     "name": "stderr",
     "output_type": "stream",
     "text": [
      "C:\\Users\\ssand\\AppData\\Roaming\\Python\\Python39\\site-packages\\sklearn\\model_selection\\_search.py:306: UserWarning: The total space of parameters 4 is smaller than n_iter=300. Running 4 iterations. For exhaustive searches, use GridSearchCV.\n",
      "  warnings.warn(\n"
     ]
    },
    {
     "name": "stdout",
     "output_type": "stream",
     "text": [
      "Fitting 5 folds for each of 4 candidates, totalling 20 fits\n",
      "The best precision score is 0.6825570548059303\n",
      "... with parameters: {'C': 10}\n"
     ]
    }
   ],
   "source": [
    "score_measure = \"precision\"\n",
    "kfolds = 5\n",
    "\n",
    "param_grid = [\n",
    "              {'C':[1, 10, 100, 1000]}]\n",
    "\n",
    "\n",
    "gs = SVC()\n",
    "rand_search = RandomizedSearchCV(estimator = gs, param_distributions=param_grid, cv=kfolds, n_iter=300,\n",
    "                           scoring=score_measure, verbose=1, n_jobs=-1,  # n_jobs=-1 will utilize all available CPUs \n",
    "                           return_train_score=True)\n",
    "_ = rand_search.fit(train_X, train_y)\n",
    "\n",
    "print(f\"The best {score_measure} score is {rand_search.best_score_}\")\n",
    "print(f\"... with parameters: {rand_search.best_params_}\")\n",
    "\n",
    "bestRecall= rand_search.best_estimator_"
   ]
  },
  {
   "attachments": {},
   "cell_type": "markdown",
   "id": "24c69ea1",
   "metadata": {},
   "source": [
    "we can see the precision fro Both grid and random for Svm using rbf kernel is 0.682"
   ]
  },
  {
   "cell_type": "markdown",
   "id": "5b493eb6-d5b6-45c7-b840-01c4f52ae375",
   "metadata": {},
   "source": [
    "SVM with poly kernel"
   ]
  },
  {
   "cell_type": "code",
   "execution_count": 69,
   "id": "7802f010-8fff-495e-8823-43622891d139",
   "metadata": {},
   "outputs": [],
   "source": [
    "svm_poly_model = SVC(kernel=\"poly\", degree=3, coef0=1, C=10)\n",
    "_ = svm_poly_model.fit(train_X, np.ravel(train_y))\n",
    "\n",
    "model_preds = svm_poly_model.predict(test_X)\n",
    "c_matrix = confusion_matrix(test_y, model_preds)\n",
    "TP = c_matrix[1][1]\n",
    "TN = c_matrix[0][0]\n",
    "FP = c_matrix[0][1]\n",
    "FN = c_matrix[1][0]\n",
    "performance = pd.concat([performance, pd.DataFrame({'model':\"poly svm\", \n",
    "                                                    'Accuracy': [(TP+TN)/(TP+TN+FP+FN)], \n",
    "                                                    'Precision': [TP/(TP+FP)], \n",
    "                                                    'Recall': [TP/(TP+FN)], \n",
    "                                                    'F1': [2*TP/(2*TP+FP+FN)]\n",
    "                                                     }, index=[0])])"
   ]
  },
  {
   "cell_type": "code",
   "execution_count": 70,
   "id": "3283a87e",
   "metadata": {},
   "outputs": [
    {
     "name": "stdout",
     "output_type": "stream",
     "text": [
      "Fitting 5 folds for each of 4 candidates, totalling 20 fits\n",
      "The best precision score is 0.6825570548059303\n",
      "... with parameters: {'C': 10}\n"
     ]
    }
   ],
   "source": [
    "score_measure = \"precision\"\n",
    "kfolds = 5\n",
    "\n",
    "param_grid = [\n",
    "              {'C':[1, 10, 100, 1000]}]\n",
    "\n",
    "PK = SVC()\n",
    "grid_search = GridSearchCV(estimator =PK, param_grid=param_grid, cv=kfolds, \n",
    "                           scoring=score_measure, verbose=1, n_jobs=-1,  # n_jobs=-1 will utilize all available CPUs \n",
    "                           return_train_score=True)\n",
    "\n",
    "_ = grid_search.fit(train_X, train_y)\n",
    "\n",
    "print(f\"The best {score_measure} score is {grid_search.best_score_}\")\n",
    "print(f\"... with parameters: {grid_search.best_params_}\")\n",
    "\n",
    "bestRecallTree = grid_search.best_estimator_"
   ]
  },
  {
   "cell_type": "code",
   "execution_count": 71,
   "id": "85f289d1",
   "metadata": {},
   "outputs": [
    {
     "name": "stderr",
     "output_type": "stream",
     "text": [
      "C:\\Users\\ssand\\AppData\\Roaming\\Python\\Python39\\site-packages\\sklearn\\model_selection\\_search.py:306: UserWarning: The total space of parameters 4 is smaller than n_iter=300. Running 4 iterations. For exhaustive searches, use GridSearchCV.\n",
      "  warnings.warn(\n"
     ]
    },
    {
     "name": "stdout",
     "output_type": "stream",
     "text": [
      "Fitting 5 folds for each of 4 candidates, totalling 20 fits\n",
      "The best precision score is 0.6825570548059303\n",
      "... with parameters: {'C': 10}\n"
     ]
    }
   ],
   "source": [
    "score_measure = \"precision\"\n",
    "kfolds = 5\n",
    "\n",
    "param_grid = [\n",
    "              {'C':[1, 10, 100, 1000]}]\n",
    "\n",
    "\n",
    "PR = SVC()\n",
    "rand_search = RandomizedSearchCV(estimator = PR, param_distributions=param_grid, cv=kfolds, n_iter=300,\n",
    "                           scoring=score_measure, verbose=1, n_jobs=-1,  # n_jobs=-1 will utilize all available CPUs \n",
    "                           return_train_score=True)\n",
    "_ = rand_search.fit(train_X, train_y)\n",
    "\n",
    "print(f\"The best {score_measure} score is {rand_search.best_score_}\")\n",
    "print(f\"... with parameters: {rand_search.best_params_}\")\n",
    "\n",
    "bestRecall= rand_search.best_estimator_"
   ]
  },
  {
   "attachments": {},
   "cell_type": "markdown",
   "id": "a339561d",
   "metadata": {},
   "source": [
    "we can see the precision fro Both grid and random for Svm using poly kernel is 0.68"
   ]
  },
  {
   "cell_type": "markdown",
   "id": "68032064-3ef3-4966-b5fd-05842b030e86",
   "metadata": {},
   "source": [
    "Summary"
   ]
  },
  {
   "cell_type": "markdown",
   "id": "c0965e13-55e2-4e22-a3c8-c39a01e3c064",
   "metadata": {},
   "source": [
    "###  Fit a DTree classification model using defaults (unconstrained tree)"
   ]
  },
  {
   "cell_type": "code",
   "execution_count": 72,
   "id": "1bdad3ea-2414-4bcc-acab-6cbb2e6d488f",
   "metadata": {},
   "outputs": [],
   "source": [
    "dtree1 = DecisionTreeClassifier().fit(train_X, np.ravel(train_y))"
   ]
  },
  {
   "attachments": {},
   "cell_type": "markdown",
   "id": "48cc939b",
   "metadata": {},
   "source": [
    "performming the decision tree classification"
   ]
  },
  {
   "cell_type": "code",
   "execution_count": 73,
   "id": "d139cc00-012f-4c65-985e-6c547b054ff1",
   "metadata": {},
   "outputs": [],
   "source": [
    "c_matrix = confusion_matrix(train_y, dtree1.predict(train_X))\n",
    "TP = c_matrix[1][1]\n",
    "TN = c_matrix[0][0]\n",
    "FP = c_matrix[0][1]\n",
    "FN = c_matrix[1][0]\n",
    "performance = pd.concat([performance, pd.DataFrame({'model':\"dtree1 unconstrained on training set\", \n",
    "                                                    'Accuracy': [(TP+TN)/(TP+TN+FP+FN)], \n",
    "                                                    'Precision': [TP/(TP+FP)], \n",
    "                                                    'Recall': [TP/(TP+FN)], \n",
    "                                                    'F1': [2*TP/(2*TP+FP+FN)]\n",
    "                                                     }, index=[0])])"
   ]
  },
  {
   "cell_type": "code",
   "execution_count": 74,
   "id": "918a914b-c498-4e39-919f-3383f6866b96",
   "metadata": {},
   "outputs": [],
   "source": [
    "c_matrix = confusion_matrix(test_y, dtree1.predict(test_X))\n",
    "TP = c_matrix[1][1]\n",
    "TN = c_matrix[0][0]\n",
    "FP = c_matrix[0][1]\n",
    "FN = c_matrix[1][0]\n",
    "performance = pd.concat([performance, pd.DataFrame({'model':\"dtree1 unconstrained on test set\", \n",
    "                                                    'Accuracy': [(TP+TN)/(TP+TN+FP+FN)], \n",
    "                                                    'Precision': [TP/(TP+FP)], \n",
    "                                                    'Recall': [TP/(TP+FN)], \n",
    "                                                    'F1': [2*TP/(2*TP+FP+FN)]\n",
    "                                                     }, index=[0])])"
   ]
  },
  {
   "cell_type": "code",
   "execution_count": 75,
   "id": "604077f2-6d1d-4a68-9930-cf3a98a4d32c",
   "metadata": {},
   "outputs": [
    {
     "data": {
      "text/html": [
       "<div>\n",
       "<style scoped>\n",
       "    .dataframe tbody tr th:only-of-type {\n",
       "        vertical-align: middle;\n",
       "    }\n",
       "\n",
       "    .dataframe tbody tr th {\n",
       "        vertical-align: top;\n",
       "    }\n",
       "\n",
       "    .dataframe thead th {\n",
       "        text-align: right;\n",
       "    }\n",
       "</style>\n",
       "<table border=\"1\" class=\"dataframe\">\n",
       "  <thead>\n",
       "    <tr style=\"text-align: right;\">\n",
       "      <th></th>\n",
       "      <th>model</th>\n",
       "      <th>Accuracy</th>\n",
       "      <th>Precision</th>\n",
       "      <th>Recall</th>\n",
       "      <th>F1</th>\n",
       "    </tr>\n",
       "  </thead>\n",
       "  <tbody>\n",
       "    <tr>\n",
       "      <th>0</th>\n",
       "      <td>dtree1 unconstrained on test set</td>\n",
       "      <td>0.831333</td>\n",
       "      <td>0.198758</td>\n",
       "      <td>0.205128</td>\n",
       "      <td>0.201893</td>\n",
       "    </tr>\n",
       "    <tr>\n",
       "      <th>0</th>\n",
       "      <td>svm linear</td>\n",
       "      <td>0.897333</td>\n",
       "      <td>0.521739</td>\n",
       "      <td>0.153846</td>\n",
       "      <td>0.237624</td>\n",
       "    </tr>\n",
       "    <tr>\n",
       "      <th>0</th>\n",
       "      <td>L1 logistic</td>\n",
       "      <td>0.900667</td>\n",
       "      <td>0.561404</td>\n",
       "      <td>0.205128</td>\n",
       "      <td>0.300469</td>\n",
       "    </tr>\n",
       "    <tr>\n",
       "      <th>0</th>\n",
       "      <td>rbf svm</td>\n",
       "      <td>0.899333</td>\n",
       "      <td>0.567568</td>\n",
       "      <td>0.134615</td>\n",
       "      <td>0.217617</td>\n",
       "    </tr>\n",
       "    <tr>\n",
       "      <th>0</th>\n",
       "      <td>default logistic</td>\n",
       "      <td>0.902000</td>\n",
       "      <td>0.578947</td>\n",
       "      <td>0.211538</td>\n",
       "      <td>0.309859</td>\n",
       "    </tr>\n",
       "    <tr>\n",
       "      <th>0</th>\n",
       "      <td>liblinear logistic</td>\n",
       "      <td>0.902000</td>\n",
       "      <td>0.578947</td>\n",
       "      <td>0.211538</td>\n",
       "      <td>0.309859</td>\n",
       "    </tr>\n",
       "    <tr>\n",
       "      <th>0</th>\n",
       "      <td>L2 logistic</td>\n",
       "      <td>0.902000</td>\n",
       "      <td>0.578947</td>\n",
       "      <td>0.211538</td>\n",
       "      <td>0.309859</td>\n",
       "    </tr>\n",
       "    <tr>\n",
       "      <th>0</th>\n",
       "      <td>Elastic logistic</td>\n",
       "      <td>0.902000</td>\n",
       "      <td>0.578947</td>\n",
       "      <td>0.211538</td>\n",
       "      <td>0.309859</td>\n",
       "    </tr>\n",
       "    <tr>\n",
       "      <th>0</th>\n",
       "      <td>poly svm</td>\n",
       "      <td>0.901333</td>\n",
       "      <td>0.605263</td>\n",
       "      <td>0.147436</td>\n",
       "      <td>0.237113</td>\n",
       "    </tr>\n",
       "    <tr>\n",
       "      <th>0</th>\n",
       "      <td>dtree1 unconstrained on training set</td>\n",
       "      <td>0.999429</td>\n",
       "      <td>1.000000</td>\n",
       "      <td>0.994536</td>\n",
       "      <td>0.997260</td>\n",
       "    </tr>\n",
       "  </tbody>\n",
       "</table>\n",
       "</div>"
      ],
      "text/plain": [
       "                                  model  Accuracy  Precision    Recall  \\\n",
       "0      dtree1 unconstrained on test set  0.831333   0.198758  0.205128   \n",
       "0                            svm linear  0.897333   0.521739  0.153846   \n",
       "0                           L1 logistic  0.900667   0.561404  0.205128   \n",
       "0                               rbf svm  0.899333   0.567568  0.134615   \n",
       "0                      default logistic  0.902000   0.578947  0.211538   \n",
       "0                    liblinear logistic  0.902000   0.578947  0.211538   \n",
       "0                           L2 logistic  0.902000   0.578947  0.211538   \n",
       "0                      Elastic logistic  0.902000   0.578947  0.211538   \n",
       "0                              poly svm  0.901333   0.605263  0.147436   \n",
       "0  dtree1 unconstrained on training set  0.999429   1.000000  0.994536   \n",
       "\n",
       "         F1  \n",
       "0  0.201893  \n",
       "0  0.237624  \n",
       "0  0.300469  \n",
       "0  0.217617  \n",
       "0  0.309859  \n",
       "0  0.309859  \n",
       "0  0.309859  \n",
       "0  0.309859  \n",
       "0  0.237113  \n",
       "0  0.997260  "
      ]
     },
     "execution_count": 75,
     "metadata": {},
     "output_type": "execute_result"
    }
   ],
   "source": [
    "performance.sort_values(by=['Precision'])"
   ]
  },
  {
   "attachments": {},
   "cell_type": "markdown",
   "id": "46360255",
   "metadata": {},
   "source": [
    "overall, precision can be see here from the above data we clearly say that the precision value for Decision tree is more .\n",
    "So, here we can see decision tree performmed better on this data set before performming grid and random.\n",
    "going further we are doing grid and random for Decision tree."
   ]
  },
  {
   "cell_type": "code",
   "execution_count": 76,
   "id": "0f117097",
   "metadata": {},
   "outputs": [],
   "source": [
    "import pandas as pd\n",
    "from sklearn.tree import DecisionTreeClassifier \n",
    "from matplotlib import pyplot as plt\n",
    "import numpy as np\n",
    "from sklearn.metrics import confusion_matrix\n",
    "from sklearn.model_selection import GridSearchCV, RandomizedSearchCV"
   ]
  },
  {
   "cell_type": "code",
   "execution_count": 77,
   "id": "abe2ab30",
   "metadata": {},
   "outputs": [],
   "source": [
    "score_measure = \"precision\"\n",
    "kfolds = 5\n",
    "\n",
    "param_grid = {\n",
    "    'min_samples_split': np.arange(1,100),  \n",
    "    'min_samples_leaf': np.arange(1,100),\n",
    "    'min_impurity_decrease': np.arange(0.0001, 0.01, 0.0005),\n",
    "    'max_leaf_nodes': np.arange(5, 100), \n",
    "    'max_depth': np.arange(1,50), \n",
    "    'criterion': ['entropy', 'gini'],\n",
    "}\n"
   ]
  },
  {
   "cell_type": "code",
   "execution_count": 78,
   "id": "46ba9787",
   "metadata": {},
   "outputs": [],
   "source": [
    "dtree = DecisionTreeClassifier()\n",
    "rand_search = RandomizedSearchCV(estimator = dtree, param_distributions=param_grid, cv=kfolds, n_iter=300,\n",
    "                           scoring=score_measure, verbose=1, n_jobs=-1,  # n_jobs=-1 will utilize all available CPUs \n",
    "                           return_train_score=True)"
   ]
  },
  {
   "cell_type": "code",
   "execution_count": 79,
   "id": "cc6687e3",
   "metadata": {},
   "outputs": [
    {
     "name": "stdout",
     "output_type": "stream",
     "text": [
      "Fitting 5 folds for each of 300 candidates, totalling 1500 fits\n",
      "The best precision score is 0.6532603006287216\n",
      "... with parameters: {'min_samples_split': 80, 'min_samples_leaf': 15, 'min_impurity_decrease': 0.0011, 'max_leaf_nodes': 19, 'max_depth': 30, 'criterion': 'entropy'}\n"
     ]
    },
    {
     "name": "stderr",
     "output_type": "stream",
     "text": [
      "C:\\Users\\ssand\\AppData\\Roaming\\Python\\Python39\\site-packages\\sklearn\\model_selection\\_validation.py:378: FitFailedWarning: \n",
      "10 fits failed out of a total of 1500.\n",
      "The score on these train-test partitions for these parameters will be set to nan.\n",
      "If these failures are not expected, you can try to debug them by setting error_score='raise'.\n",
      "\n",
      "Below are more details about the failures:\n",
      "--------------------------------------------------------------------------------\n",
      "10 fits failed with the following error:\n",
      "Traceback (most recent call last):\n",
      "  File \"C:\\Users\\ssand\\AppData\\Roaming\\Python\\Python39\\site-packages\\sklearn\\model_selection\\_validation.py\", line 686, in _fit_and_score\n",
      "    estimator.fit(X_train, y_train, **fit_params)\n",
      "  File \"C:\\Users\\ssand\\AppData\\Roaming\\Python\\Python39\\site-packages\\sklearn\\tree\\_classes.py\", line 969, in fit\n",
      "    super().fit(\n",
      "  File \"C:\\Users\\ssand\\AppData\\Roaming\\Python\\Python39\\site-packages\\sklearn\\tree\\_classes.py\", line 265, in fit\n",
      "    check_scalar(\n",
      "  File \"C:\\Users\\ssand\\AppData\\Roaming\\Python\\Python39\\site-packages\\sklearn\\utils\\validation.py\", line 1480, in check_scalar\n",
      "    raise ValueError(\n",
      "ValueError: min_samples_split == 1, must be >= 2.\n",
      "\n",
      "  warnings.warn(some_fits_failed_message, FitFailedWarning)\n",
      "C:\\Users\\ssand\\AppData\\Roaming\\Python\\Python39\\site-packages\\sklearn\\model_selection\\_search.py:953: UserWarning: One or more of the test scores are non-finite: [0.16872093 0.32060606 0.4585371  0.32060606 0.58161402 0.60251082\n",
      " 0.16872093 0.59923854 0.16872093 0.60251082 0.44981915 0.60857143\n",
      " 0.16872093 0.16872093 0.63621244 0.18461538 0.61780494        nan\n",
      " 0.58788295 0.33062569 0.16872093 0.16872093 0.16833631 0.31188811\n",
      " 0.60356345 0.32060606 0.16872093 0.16833631 0.16872093 0.63621244\n",
      " 0.16872093 0.16872093 0.16872093 0.16872093 0.16872093 0.16872093\n",
      " 0.16872093 0.16872093 0.16872093 0.58315248 0.32060606 0.59477273\n",
      " 0.16872093 0.16872093 0.185      0.16872093 0.64633389 0.16872093\n",
      " 0.16872093 0.16872093 0.31188811 0.44981915 0.16872093 0.32060606\n",
      " 0.16872093 0.44981915 0.16872093 0.185      0.16872093 0.16872093\n",
      " 0.4752381  0.16872093 0.63621244 0.16872093 0.16872093 0.31188811\n",
      " 0.19333333 0.16872093 0.61780494 0.61906117 0.16872093 0.16872093\n",
      " 0.31188811 0.16872093 0.57414347 0.63621244 0.60082584 0.61780494\n",
      " 0.16872093 0.16872093 0.6532603  0.64083899 0.31527273 0.62999012\n",
      " 0.16872093 0.32060606 0.16872093 0.16872093 0.4752381  0.16872093\n",
      " 0.61155129 0.48251082 0.16872093 0.16872093 0.16833631 0.16872093\n",
      " 0.32060606 0.16872093 0.44981915 0.185      0.61780494 0.61780494\n",
      " 0.16872093 0.16872093 0.64633389 0.16872093 0.44981915 0.16872093\n",
      " 0.16872093 0.16872093 0.16833631 0.16833631 0.57414347 0.63621244\n",
      " 0.185      0.16872093 0.16872093 0.16872093 0.16872093 0.16872093\n",
      " 0.16872093 0.16872093 0.16872093 0.32060606 0.16872093 0.5834632\n",
      " 0.16872093 0.16872093 0.16872093 0.16872093 0.32060606 0.16872093\n",
      " 0.4634632  0.16872093 0.48251082 0.16872093 0.16872093 0.16872093\n",
      " 0.59679654 0.16872093 0.16872093 0.16872093 0.16872093 0.18461538\n",
      " 0.62999012 0.19333333 0.32060606 0.57628068 0.16872093 0.57414347\n",
      " 0.16833631 0.16872093 0.63621244 0.16872093 0.48251082 0.16872093\n",
      " 0.44981915 0.16872093 0.32060606 0.16872093 0.16872093 0.48251082\n",
      " 0.18461538 0.63213364 0.16872093 0.57628068 0.61463203 0.16872093\n",
      " 0.16872093 0.16872093 0.16872093 0.16872093 0.16872093 0.57414347\n",
      " 0.16872093 0.16872093 0.16872093 0.16872093 0.58161402 0.16872093\n",
      " 0.16872093 0.61300056 0.48251082 0.16872093 0.16872093 0.57414347\n",
      " 0.63640351 0.19333333 0.16872093 0.32060606 0.16872093 0.16872093\n",
      " 0.16872093 0.48251082 0.16872093 0.61761189 0.16872093 0.16833631\n",
      " 0.5834632  0.61780494 0.64465288 0.16872093 0.16872093 0.16872093\n",
      " 0.16872093 0.32060606 0.32060606 0.16872093 0.16872093 0.31188811\n",
      " 0.58788295 0.61459102 0.16872093 0.31188811 0.16872093 0.33895903\n",
      " 0.31188811 0.16872093 0.61780494 0.32060606 0.16872093 0.32060606\n",
      " 0.32060606 0.61780494 0.57414347 0.16872093 0.16872093 0.48251082\n",
      " 0.32060606 0.61459102 0.16872093 0.32060606 0.16872093 0.16872093\n",
      " 0.16872093 0.16872093 0.185      0.32060606 0.16872093 0.19333333\n",
      " 0.19333333 0.17705426 0.16872093 0.32060606 0.61780494 0.16872093\n",
      " 0.16872093 0.16872093 0.31188811 0.16872093 0.63621244 0.63621244\n",
      " 0.185      0.57414347 0.61780494 0.16872093 0.16872093 0.4634632\n",
      " 0.16872093 0.16872093 0.16872093 0.16872093        nan 0.60356345\n",
      " 0.16872093 0.16872093 0.48251082 0.16872093 0.32060606 0.64882661\n",
      " 0.16872093 0.16872093 0.16833631 0.16872093 0.16833631 0.16872093\n",
      " 0.61477273 0.16833631 0.16872093 0.31188811 0.16872093 0.16872093\n",
      " 0.16833631 0.48251082 0.64083899 0.60558775 0.16872093 0.32060606\n",
      " 0.16872093 0.33895903 0.16872093 0.63621244 0.60558775 0.59203463\n",
      " 0.16872093 0.64633389 0.63621244 0.63621244 0.16872093 0.32060606]\n",
      "  warnings.warn(\n",
      "C:\\Users\\ssand\\AppData\\Roaming\\Python\\Python39\\site-packages\\sklearn\\model_selection\\_search.py:953: UserWarning: One or more of the train scores are non-finite: [0.2039487  0.40582995 0.51759465 0.40582995 0.63329713 0.66475593\n",
      " 0.2039487  0.65094419 0.2039487  0.66475593 0.5034782  0.64647751\n",
      " 0.2039487  0.2039487  0.69303485 0.26093852 0.64936142        nan\n",
      " 0.67852777 0.32702563 0.2039487  0.2039487  0.22457489 0.39204963\n",
      " 0.64557354 0.40582995 0.2039487  0.22457489 0.2039487  0.69313723\n",
      " 0.2039487  0.2039487  0.2039487  0.2039487  0.2039487  0.2039487\n",
      " 0.2039487  0.2039487  0.2039487  0.6634782  0.40582995 0.66840295\n",
      " 0.2039487  0.2039487  0.24031234 0.2039487  0.71012079 0.2039487\n",
      " 0.2039487  0.2039487  0.39204963 0.5034782  0.2039487  0.40582995\n",
      " 0.2039487  0.5034782  0.2039487  0.24031234 0.2039487  0.2039487\n",
      " 0.52734122 0.2039487  0.69919893 0.2039487  0.2039487  0.39204963\n",
      " 0.27471884 0.2039487  0.64936142 0.68052161 0.2039487  0.2039487\n",
      " 0.39204963 0.2039487  0.63204963 0.69303485 0.66153243 0.64936142\n",
      " 0.2039487  0.2039487  0.70465956 0.69317709 0.39271044 0.71663288\n",
      " 0.2039487  0.40582995 0.2039487  0.2039487  0.52599558 0.2039487\n",
      " 0.66487734 0.52890687 0.2039487  0.2039487  0.22457489 0.2039487\n",
      " 0.40582995 0.2039487  0.5034782  0.24031234 0.64936142 0.64936142\n",
      " 0.2039487  0.2039487  0.71012079 0.2039487  0.5034782  0.2039487\n",
      " 0.2039487  0.2039487  0.22457489 0.22457489 0.63215201 0.69303485\n",
      " 0.24031234 0.2039487  0.2039487  0.2039487  0.2039487  0.2039487\n",
      " 0.2039487  0.2039487  0.2039487  0.40582995 0.2039487  0.65380022\n",
      " 0.2039487  0.2039487  0.2039487  0.2039487  0.40582995 0.2039487\n",
      " 0.51795116 0.2039487  0.52890687 0.2039487  0.2039487  0.2039487\n",
      " 0.66104973 0.2039487  0.2039487  0.2039487  0.2039487  0.26093852\n",
      " 0.7165305  0.27471884 0.40582995 0.61984149 0.2039487  0.63204963\n",
      " 0.22457489 0.2039487  0.69313723 0.2039487  0.52890687 0.2039487\n",
      " 0.5034782  0.2039487  0.40582995 0.2039487  0.2039487  0.52890687\n",
      " 0.26093852 0.77033835 0.2039487  0.61984149 0.64647751 0.2039487\n",
      " 0.2039487  0.2039487  0.2039487  0.2039487  0.2039487  0.63204963\n",
      " 0.2039487  0.2039487  0.2039487  0.2039487  0.63329713 0.2039487\n",
      " 0.2039487  0.66701734 0.52890687 0.2039487  0.2039487  0.63215201\n",
      " 0.69409497 0.27471884 0.2039487  0.40582995 0.2039487  0.2039487\n",
      " 0.2039487  0.52890687 0.2039487  0.67848399 0.2039487  0.22457489\n",
      " 0.65380022 0.64936142 0.71329954 0.2039487  0.2039487  0.2039487\n",
      " 0.2039487  0.40582995 0.40582995 0.2039487  0.2039487  0.39204963\n",
      " 0.67852777 0.69516328 0.2039487  0.39204963 0.2039487  0.35793392\n",
      " 0.39204963 0.2039487  0.64936142 0.40582995 0.2039487  0.40582995\n",
      " 0.40582995 0.64936142 0.63204963 0.2039487  0.2039487  0.52890687\n",
      " 0.40582995 0.69516328 0.2039487  0.40582995 0.2039487  0.2039487\n",
      " 0.2039487  0.2039487  0.24031234 0.40582995 0.2039487  0.27471884\n",
      " 0.27471884 0.2383552  0.2039487  0.40582995 0.64936142 0.2039487\n",
      " 0.2039487  0.2039487  0.39204963 0.2039487  0.69313723 0.69303485\n",
      " 0.24031234 0.63204963 0.64936142 0.2039487  0.2039487  0.51795116\n",
      " 0.2039487  0.2039487  0.2039487  0.2039487         nan 0.64557354\n",
      " 0.2039487  0.2039487  0.52890687 0.2039487  0.40582995 0.7130696\n",
      " 0.2039487  0.2039487  0.22457489 0.2039487  0.22457489 0.2039487\n",
      " 0.67749386 0.22457489 0.2039487  0.39204963 0.2039487  0.2039487\n",
      " 0.22457489 0.52890687 0.69317709 0.6449783  0.2039487  0.40582995\n",
      " 0.2039487  0.35793392 0.2039487  0.69313723 0.6449783  0.70082995\n",
      " 0.2039487  0.71001841 0.69303485 0.69313723 0.2039487  0.40582995]\n",
      "  warnings.warn(\n"
     ]
    }
   ],
   "source": [
    "\n",
    "_ = rand_search.fit(train_X, train_y)\n",
    "\n",
    "print(f\"The best {score_measure} score is {rand_search.best_score_}\")\n",
    "print(f\"... with parameters: {rand_search.best_params_}\")\n",
    "\n",
    "bestRecallTree = rand_search.best_estimator_"
   ]
  },
  {
   "attachments": {},
   "cell_type": "markdown",
   "id": "71b4e464",
   "metadata": {},
   "source": [
    "So, we can see the random search for decision tree has precision is 0.65"
   ]
  },
  {
   "cell_type": "code",
   "execution_count": 80,
   "id": "50270068",
   "metadata": {},
   "outputs": [
    {
     "name": "stdout",
     "output_type": "stream",
     "text": [
      "Accuracy=0.9026667 Precision=0.5892857 Recall=0.2115385 F1=0.3113208\n"
     ]
    }
   ],
   "source": [
    "c_matrix = confusion_matrix(test_y, rand_search.predict(test_X))\n",
    "TP = c_matrix[1][1]\n",
    "TN = c_matrix[0][0]\n",
    "FP = c_matrix[0][1]\n",
    "FN = c_matrix[1][0]\n",
    "print(f\"Accuracy={(TP+TN)/(TP+TN+FP+FN):.7f} Precision={TP/(TP+FP):.7f} Recall={TP/(TP+FN):.7f} F1={2*TP/(2*TP+FP+FN):.7f}\")"
   ]
  },
  {
   "cell_type": "code",
   "execution_count": 81,
   "id": "c74e0ebb",
   "metadata": {},
   "outputs": [
    {
     "name": "stdout",
     "output_type": "stream",
     "text": [
      "Fitting 5 folds for each of 2400 candidates, totalling 12000 fits\n",
      "The best precision score is 0.6837458193979933\n",
      "... with parameters: {'criterion': 'entropy', 'max_depth': 15, 'max_leaf_nodes': 60, 'min_impurity_decrease': 0.0001, 'min_samples_leaf': 10, 'min_samples_split': 42}\n"
     ]
    }
   ],
   "source": [
    "score_measure = \"precision\"\n",
    "kfolds = 5\n",
    "\n",
    "param_grid = {\n",
    "    'min_samples_split': np.arange(40,44),  \n",
    "    'min_samples_leaf': np.arange(10,16),\n",
    "    'min_impurity_decrease': np.arange(0.0001, 0.001,0.0005),\n",
    "    'max_leaf_nodes': np.arange(60,70), \n",
    "    'max_depth': np.arange(15,20), \n",
    "    'criterion': ['entropy'],\n",
    "}\n",
    "\n",
    "dtree = DecisionTreeClassifier()\n",
    "grid_search = GridSearchCV(estimator = dtree, param_grid=param_grid, cv=kfolds, \n",
    "                           scoring=score_measure, verbose=1, n_jobs=-1,  # n_jobs=-1 will utilize all available CPUs \n",
    "                           return_train_score=True)\n",
    "\n",
    "_ = grid_search.fit(train_X, train_y)\n",
    "\n",
    "print(f\"The best {score_measure} score is {grid_search.best_score_}\")\n",
    "print(f\"... with parameters: {grid_search.best_params_}\")\n",
    "\n",
    "bestRecallTree = grid_search.best_estimator_"
   ]
  },
  {
   "attachments": {},
   "cell_type": "markdown",
   "id": "169e7b94",
   "metadata": {},
   "source": [
    "So, we can see the grid search for decision tree has precision is 0.68"
   ]
  },
  {
   "cell_type": "code",
   "execution_count": 82,
   "id": "326565f7",
   "metadata": {},
   "outputs": [
    {
     "name": "stdout",
     "output_type": "stream",
     "text": [
      "Accuracy=0.9013333 Precision=0.6428571 Recall=0.1153846 F1=0.1956522\n"
     ]
    }
   ],
   "source": [
    "c_matrix = confusion_matrix(test_y, grid_search.predict(test_X))\n",
    "TP = c_matrix[1][1]\n",
    "TN = c_matrix[0][0]\n",
    "FP = c_matrix[0][1]\n",
    "FN = c_matrix[1][0]\n",
    "print(f\"Accuracy={(TP+TN)/(TP+TN+FP+FN):.7f} Precision={TP/(TP+FP):.7f} Recall={TP/(TP+FN):.7f} F1={2*TP/(2*TP+FP+FN):.7f}\")"
   ]
  },
  {
   "cell_type": "code",
   "execution_count": 83,
   "id": "6b293d98",
   "metadata": {},
   "outputs": [
    {
     "data": {
      "text/plain": [
       "array([0.05, 0.06, 0.13, 0.01, 0.08, 0.01, 0.09, 0.05, 0.34, 0.09, 0.08])"
      ]
     },
     "execution_count": 83,
     "metadata": {},
     "output_type": "execute_result"
    }
   ],
   "source": [
    "np.round(grid_search.best_estimator_.feature_importances_,2)"
   ]
  },
  {
   "attachments": {},
   "cell_type": "markdown",
   "id": "9ba8e12b",
   "metadata": {},
   "source": [
    "finally, from all the above analaysis we can say that decision tree with grid search has high precision value of 0.68 when compared to others models till now. So, decision tree with grid search performmed better for this data set.\n",
    "\n",
    "The company can sell there 68 percent of their securities account for their exisiting coustmers based on the decision tree with grid model prediction  algorithm."
   ]
  }
 ],
 "metadata": {
  "kernelspec": {
   "display_name": "Python 3 (ipykernel)",
   "language": "python",
   "name": "python3"
  },
  "language_info": {
   "codemirror_mode": {
    "name": "ipython",
    "version": 3
   },
   "file_extension": ".py",
   "mimetype": "text/x-python",
   "name": "python",
   "nbconvert_exporter": "python",
   "pygments_lexer": "ipython3",
   "version": "3.9.13"
  }
 },
 "nbformat": 4,
 "nbformat_minor": 5
}
