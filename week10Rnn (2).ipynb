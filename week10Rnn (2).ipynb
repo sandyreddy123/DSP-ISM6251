{
 "cells": [
  {
   "cell_type": "code",
   "execution_count": 1,
   "id": "5ad070e9",
   "metadata": {},
   "outputs": [],
   "source": [
    "import tensorflow as tf\n",
    "import pandas as pd\n",
    "from tensorflow import keras\n",
    "from sklearn.metrics import mean_squared_error\n",
    "\n",
    "\n",
    "# Common imports\n",
    "import numpy as np\n",
    "import os\n",
    "\n",
    "# to make this notebook's output stable across runs\n",
    "np.random.seed(42)\n",
    "\n",
    "# To plot pretty figures\n",
    "%matplotlib inline\n",
    "import matplotlib as mpl\n",
    "import matplotlib.pyplot as plt\n",
    "mpl.rc('axes', labelsize=14)\n",
    "mpl.rc('xtick', labelsize=12)\n",
    "mpl.rc('ytick', labelsize=12)"
   ]
  },
  {
   "cell_type": "code",
   "execution_count": 2,
   "id": "df4d4890",
   "metadata": {},
   "outputs": [],
   "source": [
    "df = pd.read_csv('BBBY.csv', parse_dates=True)"
   ]
  },
  {
   "cell_type": "code",
   "execution_count": 3,
   "id": "32887678",
   "metadata": {},
   "outputs": [
    {
     "data": {
      "text/plain": [
       "Index(['Date', 'Open', 'High', 'Low', 'Close', 'Adj Close', 'Volume'], dtype='object')"
      ]
     },
     "execution_count": 3,
     "metadata": {},
     "output_type": "execute_result"
    }
   ],
   "source": [
    "df.columns"
   ]
  },
  {
   "cell_type": "code",
   "execution_count": 4,
   "id": "4893bdd9",
   "metadata": {},
   "outputs": [],
   "source": [
    "df1 = df.iloc[:100]"
   ]
  },
  {
   "cell_type": "code",
   "execution_count": 5,
   "id": "fd796603",
   "metadata": {},
   "outputs": [
    {
     "data": {
      "text/html": [
       "<div>\n",
       "<style scoped>\n",
       "    .dataframe tbody tr th:only-of-type {\n",
       "        vertical-align: middle;\n",
       "    }\n",
       "\n",
       "    .dataframe tbody tr th {\n",
       "        vertical-align: top;\n",
       "    }\n",
       "\n",
       "    .dataframe thead th {\n",
       "        text-align: right;\n",
       "    }\n",
       "</style>\n",
       "<table border=\"1\" class=\"dataframe\">\n",
       "  <thead>\n",
       "    <tr style=\"text-align: right;\">\n",
       "      <th></th>\n",
       "      <th>Date</th>\n",
       "      <th>Open</th>\n",
       "      <th>High</th>\n",
       "      <th>Low</th>\n",
       "      <th>Close</th>\n",
       "      <th>Adj Close</th>\n",
       "      <th>Volume</th>\n",
       "    </tr>\n",
       "  </thead>\n",
       "  <tbody>\n",
       "    <tr>\n",
       "      <th>0</th>\n",
       "      <td>2020-04-23</td>\n",
       "      <td>4.59</td>\n",
       "      <td>5.06</td>\n",
       "      <td>4.59</td>\n",
       "      <td>4.91</td>\n",
       "      <td>4.91</td>\n",
       "      <td>12392200</td>\n",
       "    </tr>\n",
       "    <tr>\n",
       "      <th>1</th>\n",
       "      <td>2020-04-24</td>\n",
       "      <td>4.96</td>\n",
       "      <td>5.27</td>\n",
       "      <td>4.90</td>\n",
       "      <td>5.23</td>\n",
       "      <td>5.23</td>\n",
       "      <td>11371100</td>\n",
       "    </tr>\n",
       "    <tr>\n",
       "      <th>2</th>\n",
       "      <td>2020-04-27</td>\n",
       "      <td>5.46</td>\n",
       "      <td>6.89</td>\n",
       "      <td>5.44</td>\n",
       "      <td>6.41</td>\n",
       "      <td>6.41</td>\n",
       "      <td>34331400</td>\n",
       "    </tr>\n",
       "    <tr>\n",
       "      <th>3</th>\n",
       "      <td>2020-04-28</td>\n",
       "      <td>7.01</td>\n",
       "      <td>7.69</td>\n",
       "      <td>6.57</td>\n",
       "      <td>6.65</td>\n",
       "      <td>6.65</td>\n",
       "      <td>43899900</td>\n",
       "    </tr>\n",
       "    <tr>\n",
       "      <th>4</th>\n",
       "      <td>2020-04-29</td>\n",
       "      <td>6.82</td>\n",
       "      <td>6.98</td>\n",
       "      <td>6.47</td>\n",
       "      <td>6.59</td>\n",
       "      <td>6.59</td>\n",
       "      <td>13953500</td>\n",
       "    </tr>\n",
       "    <tr>\n",
       "      <th>...</th>\n",
       "      <td>...</td>\n",
       "      <td>...</td>\n",
       "      <td>...</td>\n",
       "      <td>...</td>\n",
       "      <td>...</td>\n",
       "      <td>...</td>\n",
       "      <td>...</td>\n",
       "    </tr>\n",
       "    <tr>\n",
       "      <th>95</th>\n",
       "      <td>2020-09-08</td>\n",
       "      <td>11.52</td>\n",
       "      <td>11.66</td>\n",
       "      <td>11.21</td>\n",
       "      <td>11.32</td>\n",
       "      <td>11.32</td>\n",
       "      <td>5978500</td>\n",
       "    </tr>\n",
       "    <tr>\n",
       "      <th>96</th>\n",
       "      <td>2020-09-09</td>\n",
       "      <td>11.53</td>\n",
       "      <td>11.53</td>\n",
       "      <td>11.05</td>\n",
       "      <td>11.42</td>\n",
       "      <td>11.42</td>\n",
       "      <td>4771500</td>\n",
       "    </tr>\n",
       "    <tr>\n",
       "      <th>97</th>\n",
       "      <td>2020-09-10</td>\n",
       "      <td>12.03</td>\n",
       "      <td>12.65</td>\n",
       "      <td>11.76</td>\n",
       "      <td>11.98</td>\n",
       "      <td>11.98</td>\n",
       "      <td>15614400</td>\n",
       "    </tr>\n",
       "    <tr>\n",
       "      <th>98</th>\n",
       "      <td>2020-09-11</td>\n",
       "      <td>12.05</td>\n",
       "      <td>12.15</td>\n",
       "      <td>11.64</td>\n",
       "      <td>12.04</td>\n",
       "      <td>12.04</td>\n",
       "      <td>4889800</td>\n",
       "    </tr>\n",
       "    <tr>\n",
       "      <th>99</th>\n",
       "      <td>2020-09-14</td>\n",
       "      <td>12.12</td>\n",
       "      <td>12.80</td>\n",
       "      <td>12.12</td>\n",
       "      <td>12.69</td>\n",
       "      <td>12.69</td>\n",
       "      <td>6168700</td>\n",
       "    </tr>\n",
       "  </tbody>\n",
       "</table>\n",
       "<p>100 rows × 7 columns</p>\n",
       "</div>"
      ],
      "text/plain": [
       "          Date   Open   High    Low  Close  Adj Close    Volume\n",
       "0   2020-04-23   4.59   5.06   4.59   4.91       4.91  12392200\n",
       "1   2020-04-24   4.96   5.27   4.90   5.23       5.23  11371100\n",
       "2   2020-04-27   5.46   6.89   5.44   6.41       6.41  34331400\n",
       "3   2020-04-28   7.01   7.69   6.57   6.65       6.65  43899900\n",
       "4   2020-04-29   6.82   6.98   6.47   6.59       6.59  13953500\n",
       "..         ...    ...    ...    ...    ...        ...       ...\n",
       "95  2020-09-08  11.52  11.66  11.21  11.32      11.32   5978500\n",
       "96  2020-09-09  11.53  11.53  11.05  11.42      11.42   4771500\n",
       "97  2020-09-10  12.03  12.65  11.76  11.98      11.98  15614400\n",
       "98  2020-09-11  12.05  12.15  11.64  12.04      12.04   4889800\n",
       "99  2020-09-14  12.12  12.80  12.12  12.69      12.69   6168700\n",
       "\n",
       "[100 rows x 7 columns]"
      ]
     },
     "execution_count": 5,
     "metadata": {},
     "output_type": "execute_result"
    }
   ],
   "source": [
    "df1"
   ]
  },
  {
   "cell_type": "code",
   "execution_count": 6,
   "id": "3e60089f",
   "metadata": {},
   "outputs": [],
   "source": [
    "close_price = df1['Close']"
   ]
  },
  {
   "cell_type": "code",
   "execution_count": 7,
   "id": "fb2bde23",
   "metadata": {},
   "outputs": [
    {
     "data": {
      "text/html": [
       "<div>\n",
       "<style scoped>\n",
       "    .dataframe tbody tr th:only-of-type {\n",
       "        vertical-align: middle;\n",
       "    }\n",
       "\n",
       "    .dataframe tbody tr th {\n",
       "        vertical-align: top;\n",
       "    }\n",
       "\n",
       "    .dataframe thead th {\n",
       "        text-align: right;\n",
       "    }\n",
       "</style>\n",
       "<table border=\"1\" class=\"dataframe\">\n",
       "  <thead>\n",
       "    <tr style=\"text-align: right;\">\n",
       "      <th></th>\n",
       "      <th>Date</th>\n",
       "      <th>ClosePrice</th>\n",
       "    </tr>\n",
       "  </thead>\n",
       "  <tbody>\n",
       "    <tr>\n",
       "      <th>0</th>\n",
       "      <td>0</td>\n",
       "      <td>4.91</td>\n",
       "    </tr>\n",
       "    <tr>\n",
       "      <th>1</th>\n",
       "      <td>1</td>\n",
       "      <td>5.23</td>\n",
       "    </tr>\n",
       "    <tr>\n",
       "      <th>2</th>\n",
       "      <td>2</td>\n",
       "      <td>6.41</td>\n",
       "    </tr>\n",
       "    <tr>\n",
       "      <th>3</th>\n",
       "      <td>3</td>\n",
       "      <td>6.65</td>\n",
       "    </tr>\n",
       "    <tr>\n",
       "      <th>4</th>\n",
       "      <td>4</td>\n",
       "      <td>6.59</td>\n",
       "    </tr>\n",
       "    <tr>\n",
       "      <th>...</th>\n",
       "      <td>...</td>\n",
       "      <td>...</td>\n",
       "    </tr>\n",
       "    <tr>\n",
       "      <th>95</th>\n",
       "      <td>95</td>\n",
       "      <td>11.32</td>\n",
       "    </tr>\n",
       "    <tr>\n",
       "      <th>96</th>\n",
       "      <td>96</td>\n",
       "      <td>11.42</td>\n",
       "    </tr>\n",
       "    <tr>\n",
       "      <th>97</th>\n",
       "      <td>97</td>\n",
       "      <td>11.98</td>\n",
       "    </tr>\n",
       "    <tr>\n",
       "      <th>98</th>\n",
       "      <td>98</td>\n",
       "      <td>12.04</td>\n",
       "    </tr>\n",
       "    <tr>\n",
       "      <th>99</th>\n",
       "      <td>99</td>\n",
       "      <td>12.69</td>\n",
       "    </tr>\n",
       "  </tbody>\n",
       "</table>\n",
       "<p>100 rows × 2 columns</p>\n",
       "</div>"
      ],
      "text/plain": [
       "    Date  ClosePrice\n",
       "0      0        4.91\n",
       "1      1        5.23\n",
       "2      2        6.41\n",
       "3      3        6.65\n",
       "4      4        6.59\n",
       "..   ...         ...\n",
       "95    95       11.32\n",
       "96    96       11.42\n",
       "97    97       11.98\n",
       "98    98       12.04\n",
       "99    99       12.69\n",
       "\n",
       "[100 rows x 2 columns]"
      ]
     },
     "execution_count": 7,
     "metadata": {},
     "output_type": "execute_result"
    }
   ],
   "source": [
    "#store the values of the Date and the closing price into the pandas dataframe\n",
    "df1 = pd.DataFrame({'Date': close_price.index, 'ClosePrice': close_price.values})\n",
    "df1"
   ]
  },
  {
   "cell_type": "code",
   "execution_count": 8,
   "id": "e41141cb",
   "metadata": {},
   "outputs": [
    {
     "data": {
      "text/plain": [
       "10.0"
      ]
     },
     "execution_count": 8,
     "metadata": {},
     "output_type": "execute_result"
    }
   ],
   "source": [
    "#reshaped the Data\n",
    "df1.shape[0]/10 "
   ]
  },
  {
   "cell_type": "code",
   "execution_count": 9,
   "id": "a379dec0",
   "metadata": {},
   "outputs": [
    {
     "data": {
      "text/html": [
       "<div>\n",
       "<style scoped>\n",
       "    .dataframe tbody tr th:only-of-type {\n",
       "        vertical-align: middle;\n",
       "    }\n",
       "\n",
       "    .dataframe tbody tr th {\n",
       "        vertical-align: top;\n",
       "    }\n",
       "\n",
       "    .dataframe thead th {\n",
       "        text-align: right;\n",
       "    }\n",
       "</style>\n",
       "<table border=\"1\" class=\"dataframe\">\n",
       "  <thead>\n",
       "    <tr style=\"text-align: right;\">\n",
       "      <th></th>\n",
       "      <th>ClosePrice</th>\n",
       "    </tr>\n",
       "    <tr>\n",
       "      <th>Date</th>\n",
       "      <th></th>\n",
       "    </tr>\n",
       "  </thead>\n",
       "  <tbody>\n",
       "    <tr>\n",
       "      <th>0</th>\n",
       "      <td>1</td>\n",
       "    </tr>\n",
       "    <tr>\n",
       "      <th>1</th>\n",
       "      <td>1</td>\n",
       "    </tr>\n",
       "    <tr>\n",
       "      <th>2</th>\n",
       "      <td>1</td>\n",
       "    </tr>\n",
       "    <tr>\n",
       "      <th>3</th>\n",
       "      <td>1</td>\n",
       "    </tr>\n",
       "    <tr>\n",
       "      <th>4</th>\n",
       "      <td>1</td>\n",
       "    </tr>\n",
       "    <tr>\n",
       "      <th>...</th>\n",
       "      <td>...</td>\n",
       "    </tr>\n",
       "    <tr>\n",
       "      <th>95</th>\n",
       "      <td>1</td>\n",
       "    </tr>\n",
       "    <tr>\n",
       "      <th>96</th>\n",
       "      <td>1</td>\n",
       "    </tr>\n",
       "    <tr>\n",
       "      <th>97</th>\n",
       "      <td>1</td>\n",
       "    </tr>\n",
       "    <tr>\n",
       "      <th>98</th>\n",
       "      <td>1</td>\n",
       "    </tr>\n",
       "    <tr>\n",
       "      <th>99</th>\n",
       "      <td>1</td>\n",
       "    </tr>\n",
       "  </tbody>\n",
       "</table>\n",
       "<p>100 rows × 1 columns</p>\n",
       "</div>"
      ],
      "text/plain": [
       "      ClosePrice\n",
       "Date            \n",
       "0              1\n",
       "1              1\n",
       "2              1\n",
       "3              1\n",
       "4              1\n",
       "...          ...\n",
       "95             1\n",
       "96             1\n",
       "97             1\n",
       "98             1\n",
       "99             1\n",
       "\n",
       "[100 rows x 1 columns]"
      ]
     },
     "execution_count": 9,
     "metadata": {},
     "output_type": "execute_result"
    }
   ],
   "source": [
    "#Grouping by Date\n",
    "df1.groupby(['Date']).count() #Grouping by the date"
   ]
  },
  {
   "cell_type": "code",
   "execution_count": 10,
   "id": "9669d3a3",
   "metadata": {},
   "outputs": [
    {
     "data": {
      "text/html": [
       "<div>\n",
       "<style scoped>\n",
       "    .dataframe tbody tr th:only-of-type {\n",
       "        vertical-align: middle;\n",
       "    }\n",
       "\n",
       "    .dataframe tbody tr th {\n",
       "        vertical-align: top;\n",
       "    }\n",
       "\n",
       "    .dataframe thead th {\n",
       "        text-align: right;\n",
       "    }\n",
       "</style>\n",
       "<table border=\"1\" class=\"dataframe\">\n",
       "  <thead>\n",
       "    <tr style=\"text-align: right;\">\n",
       "      <th></th>\n",
       "      <th>ClosePrice</th>\n",
       "    </tr>\n",
       "    <tr>\n",
       "      <th>Date</th>\n",
       "      <th></th>\n",
       "    </tr>\n",
       "  </thead>\n",
       "  <tbody>\n",
       "    <tr>\n",
       "      <th>0</th>\n",
       "      <td>1</td>\n",
       "    </tr>\n",
       "    <tr>\n",
       "      <th>1</th>\n",
       "      <td>1</td>\n",
       "    </tr>\n",
       "    <tr>\n",
       "      <th>2</th>\n",
       "      <td>1</td>\n",
       "    </tr>\n",
       "    <tr>\n",
       "      <th>3</th>\n",
       "      <td>1</td>\n",
       "    </tr>\n",
       "    <tr>\n",
       "      <th>4</th>\n",
       "      <td>1</td>\n",
       "    </tr>\n",
       "    <tr>\n",
       "      <th>...</th>\n",
       "      <td>...</td>\n",
       "    </tr>\n",
       "    <tr>\n",
       "      <th>95</th>\n",
       "      <td>1</td>\n",
       "    </tr>\n",
       "    <tr>\n",
       "      <th>96</th>\n",
       "      <td>1</td>\n",
       "    </tr>\n",
       "    <tr>\n",
       "      <th>97</th>\n",
       "      <td>1</td>\n",
       "    </tr>\n",
       "    <tr>\n",
       "      <th>98</th>\n",
       "      <td>1</td>\n",
       "    </tr>\n",
       "    <tr>\n",
       "      <th>99</th>\n",
       "      <td>1</td>\n",
       "    </tr>\n",
       "  </tbody>\n",
       "</table>\n",
       "<p>100 rows × 1 columns</p>\n",
       "</div>"
      ],
      "text/plain": [
       "      ClosePrice\n",
       "Date            \n",
       "0              1\n",
       "1              1\n",
       "2              1\n",
       "3              1\n",
       "4              1\n",
       "...          ...\n",
       "95             1\n",
       "96             1\n",
       "97             1\n",
       "98             1\n",
       "99             1\n",
       "\n",
       "[100 rows x 1 columns]"
      ]
     },
     "execution_count": 10,
     "metadata": {},
     "output_type": "execute_result"
    }
   ],
   "source": [
    "#read closing price for each day\n",
    "\n",
    "df1_count = pd.DataFrame(df1.groupby(['Date']).count()['ClosePrice'])\n",
    "\n",
    "df1_count"
   ]
  },
  {
   "cell_type": "code",
   "execution_count": 11,
   "id": "9d1a2f60",
   "metadata": {},
   "outputs": [
    {
     "data": {
      "text/plain": [
       "array([[ 4.91,  5.23,  6.41,  6.65,  6.59,  6.19,  5.64,  5.91,  5.58,\n",
       "         5.64],\n",
       "       [ 5.78,  6.46,  6.2 ,  5.86,  5.45,  5.35,  5.79,  6.28,  5.95,\n",
       "         5.95],\n",
       "       [ 6.8 ,  6.7 ,  7.49,  7.69,  7.47,  7.27,  7.5 ,  7.55,  8.08,\n",
       "         8.73],\n",
       "       [ 9.32,  9.86,  9.09,  8.26,  7.46,  8.1 ,  8.37,  9.64,  9.72,\n",
       "        10.1 ],\n",
       "       [ 9.84,  9.97, 10.24,  9.35,  9.48, 10.05, 10.82, 10.6 , 10.64,\n",
       "        10.81],\n",
       "       [10.76, 10.24, 10.41,  7.86,  8.2 ,  7.73,  8.39,  8.88,  9.47,\n",
       "         9.22],\n",
       "       [ 8.89,  9.43, 10.  , 10.16, 10.14, 10.53, 10.35, 10.85, 10.96,\n",
       "        10.82],\n",
       "       [11.05, 11.43, 11.77, 12.  , 12.11, 12.66, 11.93, 12.12, 12.34,\n",
       "        12.35],\n",
       "       [12.87, 12.2 , 12.2 , 11.47, 11.67, 12.27, 12.32, 12.18, 11.91,\n",
       "        12.09],\n",
       "       [12.18, 13.04, 12.44, 11.83, 11.75, 11.32, 11.42, 11.98, 12.04,\n",
       "        12.69]])"
      ]
     },
     "execution_count": 11,
     "metadata": {},
     "output_type": "execute_result"
    }
   ],
   "source": [
    "# reorganize by day\n",
    "c_price = np.array(df1['ClosePrice']).reshape(10,10)\n",
    "\n",
    "c_price "
   ]
  },
  {
   "cell_type": "code",
   "execution_count": 12,
   "id": "fddcaf13",
   "metadata": {},
   "outputs": [
    {
     "data": {
      "text/html": [
       "<div>\n",
       "<style scoped>\n",
       "    .dataframe tbody tr th:only-of-type {\n",
       "        vertical-align: middle;\n",
       "    }\n",
       "\n",
       "    .dataframe tbody tr th {\n",
       "        vertical-align: top;\n",
       "    }\n",
       "\n",
       "    .dataframe thead th {\n",
       "        text-align: right;\n",
       "    }\n",
       "</style>\n",
       "<table border=\"1\" class=\"dataframe\">\n",
       "  <thead>\n",
       "    <tr style=\"text-align: right;\">\n",
       "      <th></th>\n",
       "      <th>0</th>\n",
       "      <th>1</th>\n",
       "      <th>2</th>\n",
       "      <th>3</th>\n",
       "      <th>4</th>\n",
       "      <th>5</th>\n",
       "      <th>6</th>\n",
       "      <th>7</th>\n",
       "      <th>8</th>\n",
       "      <th>9</th>\n",
       "    </tr>\n",
       "  </thead>\n",
       "  <tbody>\n",
       "    <tr>\n",
       "      <th>0</th>\n",
       "      <td>4.91</td>\n",
       "      <td>5.23</td>\n",
       "      <td>6.41</td>\n",
       "      <td>6.65</td>\n",
       "      <td>6.59</td>\n",
       "      <td>6.19</td>\n",
       "      <td>5.64</td>\n",
       "      <td>5.91</td>\n",
       "      <td>5.58</td>\n",
       "      <td>5.64</td>\n",
       "    </tr>\n",
       "    <tr>\n",
       "      <th>1</th>\n",
       "      <td>5.78</td>\n",
       "      <td>6.46</td>\n",
       "      <td>6.20</td>\n",
       "      <td>5.86</td>\n",
       "      <td>5.45</td>\n",
       "      <td>5.35</td>\n",
       "      <td>5.79</td>\n",
       "      <td>6.28</td>\n",
       "      <td>5.95</td>\n",
       "      <td>5.95</td>\n",
       "    </tr>\n",
       "    <tr>\n",
       "      <th>2</th>\n",
       "      <td>6.80</td>\n",
       "      <td>6.70</td>\n",
       "      <td>7.49</td>\n",
       "      <td>7.69</td>\n",
       "      <td>7.47</td>\n",
       "      <td>7.27</td>\n",
       "      <td>7.50</td>\n",
       "      <td>7.55</td>\n",
       "      <td>8.08</td>\n",
       "      <td>8.73</td>\n",
       "    </tr>\n",
       "    <tr>\n",
       "      <th>3</th>\n",
       "      <td>9.32</td>\n",
       "      <td>9.86</td>\n",
       "      <td>9.09</td>\n",
       "      <td>8.26</td>\n",
       "      <td>7.46</td>\n",
       "      <td>8.10</td>\n",
       "      <td>8.37</td>\n",
       "      <td>9.64</td>\n",
       "      <td>9.72</td>\n",
       "      <td>10.10</td>\n",
       "    </tr>\n",
       "    <tr>\n",
       "      <th>4</th>\n",
       "      <td>9.84</td>\n",
       "      <td>9.97</td>\n",
       "      <td>10.24</td>\n",
       "      <td>9.35</td>\n",
       "      <td>9.48</td>\n",
       "      <td>10.05</td>\n",
       "      <td>10.82</td>\n",
       "      <td>10.60</td>\n",
       "      <td>10.64</td>\n",
       "      <td>10.81</td>\n",
       "    </tr>\n",
       "    <tr>\n",
       "      <th>5</th>\n",
       "      <td>10.76</td>\n",
       "      <td>10.24</td>\n",
       "      <td>10.41</td>\n",
       "      <td>7.86</td>\n",
       "      <td>8.20</td>\n",
       "      <td>7.73</td>\n",
       "      <td>8.39</td>\n",
       "      <td>8.88</td>\n",
       "      <td>9.47</td>\n",
       "      <td>9.22</td>\n",
       "    </tr>\n",
       "    <tr>\n",
       "      <th>6</th>\n",
       "      <td>8.89</td>\n",
       "      <td>9.43</td>\n",
       "      <td>10.00</td>\n",
       "      <td>10.16</td>\n",
       "      <td>10.14</td>\n",
       "      <td>10.53</td>\n",
       "      <td>10.35</td>\n",
       "      <td>10.85</td>\n",
       "      <td>10.96</td>\n",
       "      <td>10.82</td>\n",
       "    </tr>\n",
       "    <tr>\n",
       "      <th>7</th>\n",
       "      <td>11.05</td>\n",
       "      <td>11.43</td>\n",
       "      <td>11.77</td>\n",
       "      <td>12.00</td>\n",
       "      <td>12.11</td>\n",
       "      <td>12.66</td>\n",
       "      <td>11.93</td>\n",
       "      <td>12.12</td>\n",
       "      <td>12.34</td>\n",
       "      <td>12.35</td>\n",
       "    </tr>\n",
       "    <tr>\n",
       "      <th>8</th>\n",
       "      <td>12.87</td>\n",
       "      <td>12.20</td>\n",
       "      <td>12.20</td>\n",
       "      <td>11.47</td>\n",
       "      <td>11.67</td>\n",
       "      <td>12.27</td>\n",
       "      <td>12.32</td>\n",
       "      <td>12.18</td>\n",
       "      <td>11.91</td>\n",
       "      <td>12.09</td>\n",
       "    </tr>\n",
       "    <tr>\n",
       "      <th>9</th>\n",
       "      <td>12.18</td>\n",
       "      <td>13.04</td>\n",
       "      <td>12.44</td>\n",
       "      <td>11.83</td>\n",
       "      <td>11.75</td>\n",
       "      <td>11.32</td>\n",
       "      <td>11.42</td>\n",
       "      <td>11.98</td>\n",
       "      <td>12.04</td>\n",
       "      <td>12.69</td>\n",
       "    </tr>\n",
       "  </tbody>\n",
       "</table>\n",
       "</div>"
      ],
      "text/plain": [
       "       0      1      2      3      4      5      6      7      8      9\n",
       "0   4.91   5.23   6.41   6.65   6.59   6.19   5.64   5.91   5.58   5.64\n",
       "1   5.78   6.46   6.20   5.86   5.45   5.35   5.79   6.28   5.95   5.95\n",
       "2   6.80   6.70   7.49   7.69   7.47   7.27   7.50   7.55   8.08   8.73\n",
       "3   9.32   9.86   9.09   8.26   7.46   8.10   8.37   9.64   9.72  10.10\n",
       "4   9.84   9.97  10.24   9.35   9.48  10.05  10.82  10.60  10.64  10.81\n",
       "5  10.76  10.24  10.41   7.86   8.20   7.73   8.39   8.88   9.47   9.22\n",
       "6   8.89   9.43  10.00  10.16  10.14  10.53  10.35  10.85  10.96  10.82\n",
       "7  11.05  11.43  11.77  12.00  12.11  12.66  11.93  12.12  12.34  12.35\n",
       "8  12.87  12.20  12.20  11.47  11.67  12.27  12.32  12.18  11.91  12.09\n",
       "9  12.18  13.04  12.44  11.83  11.75  11.32  11.42  11.98  12.04  12.69"
      ]
     },
     "execution_count": 12,
     "metadata": {},
     "output_type": "execute_result"
    }
   ],
   "source": [
    "#convert into dataframe\n",
    "convert = pd.DataFrame(c_price, columns=np.arange(0,10,1))\n",
    "\n",
    "convert"
   ]
  },
  {
   "cell_type": "code",
   "execution_count": 13,
   "id": "e02ec5fa",
   "metadata": {},
   "outputs": [
    {
     "data": {
      "text/plain": [
       "(100, 1)"
      ]
     },
     "execution_count": 13,
     "metadata": {},
     "output_type": "execute_result"
    }
   ],
   "source": [
    "# Reshape for Standardizing Data\n",
    "convert_1 = np.array(convert).ravel().reshape(-1,1)\n",
    "\n",
    "convert_1.shape"
   ]
  },
  {
   "cell_type": "markdown",
   "id": "a92403c6",
   "metadata": {},
   "source": [
    "## Standardize the values"
   ]
  },
  {
   "cell_type": "code",
   "execution_count": 14,
   "id": "345f88c2",
   "metadata": {},
   "outputs": [],
   "source": [
    "# Next, standardize\n",
    "\n",
    "from sklearn.preprocessing import StandardScaler\n",
    "\n",
    "scaler = StandardScaler()\n",
    "\n",
    "scaled_data = scaler.fit_transform(convert_1)"
   ]
  },
  {
   "cell_type": "code",
   "execution_count": 15,
   "id": "1b2c5965",
   "metadata": {},
   "outputs": [
    {
     "data": {
      "text/plain": [
       "(10, 10)"
      ]
     },
     "execution_count": 15,
     "metadata": {},
     "output_type": "execute_result"
    }
   ],
   "source": [
    "## Reshape the data \n",
    "reshaped = scaled_data.reshape(10,10)\n",
    "\n",
    "reshaped.shape"
   ]
  },
  {
   "cell_type": "code",
   "execution_count": 16,
   "id": "786d6fdc",
   "metadata": {},
   "outputs": [
    {
     "data": {
      "text/html": [
       "<div>\n",
       "<style scoped>\n",
       "    .dataframe tbody tr th:only-of-type {\n",
       "        vertical-align: middle;\n",
       "    }\n",
       "\n",
       "    .dataframe tbody tr th {\n",
       "        vertical-align: top;\n",
       "    }\n",
       "\n",
       "    .dataframe thead th {\n",
       "        text-align: right;\n",
       "    }\n",
       "</style>\n",
       "<table border=\"1\" class=\"dataframe\">\n",
       "  <thead>\n",
       "    <tr style=\"text-align: right;\">\n",
       "      <th></th>\n",
       "      <th>0</th>\n",
       "      <th>1</th>\n",
       "      <th>2</th>\n",
       "      <th>3</th>\n",
       "      <th>4</th>\n",
       "      <th>5</th>\n",
       "      <th>6</th>\n",
       "      <th>7</th>\n",
       "      <th>8</th>\n",
       "      <th>9</th>\n",
       "    </tr>\n",
       "  </thead>\n",
       "  <tbody>\n",
       "    <tr>\n",
       "      <th>0</th>\n",
       "      <td>-1.921683</td>\n",
       "      <td>-1.784646</td>\n",
       "      <td>-1.279323</td>\n",
       "      <td>-1.176546</td>\n",
       "      <td>-1.202240</td>\n",
       "      <td>-1.373536</td>\n",
       "      <td>-1.609068</td>\n",
       "      <td>-1.493443</td>\n",
       "      <td>-1.634762</td>\n",
       "      <td>-1.609068</td>\n",
       "    </tr>\n",
       "    <tr>\n",
       "      <th>1</th>\n",
       "      <td>-1.549114</td>\n",
       "      <td>-1.257911</td>\n",
       "      <td>-1.369254</td>\n",
       "      <td>-1.514855</td>\n",
       "      <td>-1.690434</td>\n",
       "      <td>-1.733258</td>\n",
       "      <td>-1.544832</td>\n",
       "      <td>-1.334995</td>\n",
       "      <td>-1.476314</td>\n",
       "      <td>-1.476314</td>\n",
       "    </tr>\n",
       "    <tr>\n",
       "      <th>2</th>\n",
       "      <td>-1.112310</td>\n",
       "      <td>-1.155134</td>\n",
       "      <td>-0.816825</td>\n",
       "      <td>-0.731177</td>\n",
       "      <td>-0.825389</td>\n",
       "      <td>-0.911037</td>\n",
       "      <td>-0.812542</td>\n",
       "      <td>-0.791130</td>\n",
       "      <td>-0.564163</td>\n",
       "      <td>-0.285807</td>\n",
       "    </tr>\n",
       "    <tr>\n",
       "      <th>3</th>\n",
       "      <td>-0.033146</td>\n",
       "      <td>0.198104</td>\n",
       "      <td>-0.131641</td>\n",
       "      <td>-0.487080</td>\n",
       "      <td>-0.829672</td>\n",
       "      <td>-0.555598</td>\n",
       "      <td>-0.439974</td>\n",
       "      <td>0.103891</td>\n",
       "      <td>0.138150</td>\n",
       "      <td>0.300881</td>\n",
       "    </tr>\n",
       "    <tr>\n",
       "      <th>4</th>\n",
       "      <td>0.189539</td>\n",
       "      <td>0.245210</td>\n",
       "      <td>0.360835</td>\n",
       "      <td>-0.020299</td>\n",
       "      <td>0.035373</td>\n",
       "      <td>0.279469</td>\n",
       "      <td>0.609214</td>\n",
       "      <td>0.515001</td>\n",
       "      <td>0.532131</td>\n",
       "      <td>0.604931</td>\n",
       "    </tr>\n",
       "    <tr>\n",
       "      <th>5</th>\n",
       "      <td>0.583519</td>\n",
       "      <td>0.360835</td>\n",
       "      <td>0.433636</td>\n",
       "      <td>-0.658376</td>\n",
       "      <td>-0.512774</td>\n",
       "      <td>-0.714047</td>\n",
       "      <td>-0.431409</td>\n",
       "      <td>-0.221571</td>\n",
       "      <td>0.031090</td>\n",
       "      <td>-0.075970</td>\n",
       "    </tr>\n",
       "    <tr>\n",
       "      <th>6</th>\n",
       "      <td>-0.217289</td>\n",
       "      <td>0.013961</td>\n",
       "      <td>0.258057</td>\n",
       "      <td>0.326576</td>\n",
       "      <td>0.318011</td>\n",
       "      <td>0.485024</td>\n",
       "      <td>0.407941</td>\n",
       "      <td>0.622061</td>\n",
       "      <td>0.669167</td>\n",
       "      <td>0.609214</td>\n",
       "    </tr>\n",
       "    <tr>\n",
       "      <th>7</th>\n",
       "      <td>0.707709</td>\n",
       "      <td>0.870440</td>\n",
       "      <td>1.016042</td>\n",
       "      <td>1.114537</td>\n",
       "      <td>1.161643</td>\n",
       "      <td>1.397175</td>\n",
       "      <td>1.084560</td>\n",
       "      <td>1.165926</td>\n",
       "      <td>1.260138</td>\n",
       "      <td>1.264421</td>\n",
       "    </tr>\n",
       "    <tr>\n",
       "      <th>8</th>\n",
       "      <td>1.487105</td>\n",
       "      <td>1.200185</td>\n",
       "      <td>1.200185</td>\n",
       "      <td>0.887570</td>\n",
       "      <td>0.973218</td>\n",
       "      <td>1.230162</td>\n",
       "      <td>1.251574</td>\n",
       "      <td>1.191620</td>\n",
       "      <td>1.075995</td>\n",
       "      <td>1.153078</td>\n",
       "    </tr>\n",
       "    <tr>\n",
       "      <th>9</th>\n",
       "      <td>1.191620</td>\n",
       "      <td>1.559906</td>\n",
       "      <td>1.302962</td>\n",
       "      <td>1.041736</td>\n",
       "      <td>1.007477</td>\n",
       "      <td>0.823334</td>\n",
       "      <td>0.866158</td>\n",
       "      <td>1.105972</td>\n",
       "      <td>1.131666</td>\n",
       "      <td>1.410022</td>\n",
       "    </tr>\n",
       "  </tbody>\n",
       "</table>\n",
       "</div>"
      ],
      "text/plain": [
       "          0         1         2         3         4         5         6  \\\n",
       "0 -1.921683 -1.784646 -1.279323 -1.176546 -1.202240 -1.373536 -1.609068   \n",
       "1 -1.549114 -1.257911 -1.369254 -1.514855 -1.690434 -1.733258 -1.544832   \n",
       "2 -1.112310 -1.155134 -0.816825 -0.731177 -0.825389 -0.911037 -0.812542   \n",
       "3 -0.033146  0.198104 -0.131641 -0.487080 -0.829672 -0.555598 -0.439974   \n",
       "4  0.189539  0.245210  0.360835 -0.020299  0.035373  0.279469  0.609214   \n",
       "5  0.583519  0.360835  0.433636 -0.658376 -0.512774 -0.714047 -0.431409   \n",
       "6 -0.217289  0.013961  0.258057  0.326576  0.318011  0.485024  0.407941   \n",
       "7  0.707709  0.870440  1.016042  1.114537  1.161643  1.397175  1.084560   \n",
       "8  1.487105  1.200185  1.200185  0.887570  0.973218  1.230162  1.251574   \n",
       "9  1.191620  1.559906  1.302962  1.041736  1.007477  0.823334  0.866158   \n",
       "\n",
       "          7         8         9  \n",
       "0 -1.493443 -1.634762 -1.609068  \n",
       "1 -1.334995 -1.476314 -1.476314  \n",
       "2 -0.791130 -0.564163 -0.285807  \n",
       "3  0.103891  0.138150  0.300881  \n",
       "4  0.515001  0.532131  0.604931  \n",
       "5 -0.221571  0.031090 -0.075970  \n",
       "6  0.622061  0.669167  0.609214  \n",
       "7  1.165926  1.260138  1.264421  \n",
       "8  1.191620  1.075995  1.153078  \n",
       "9  1.105972  1.131666  1.410022  "
      ]
     },
     "execution_count": 16,
     "metadata": {},
     "output_type": "execute_result"
    }
   ],
   "source": [
    "#Pandas version of the reshaped data\n",
    "pd.DataFrame(reshaped, columns=np.arange(0,10,1))"
   ]
  },
  {
   "cell_type": "markdown",
   "id": "d5830003",
   "metadata": {},
   "source": [
    "# Split the Data\n"
   ]
  },
  {
   "cell_type": "code",
   "execution_count": 17,
   "id": "c95f086f",
   "metadata": {},
   "outputs": [],
   "source": [
    "from sklearn.model_selection import train_test_split\n",
    "\n",
    "train, test = train_test_split(reshaped, test_size=0.3)"
   ]
  },
  {
   "cell_type": "markdown",
   "id": "e14d7c11",
   "metadata": {},
   "source": [
    "train.shape"
   ]
  },
  {
   "cell_type": "code",
   "execution_count": 19,
   "id": "5e45320e",
   "metadata": {},
   "outputs": [
    {
     "data": {
      "text/plain": [
       "array([[-1.92168307, -1.78464635, -1.27932344, -1.1765459 , -1.20224028,\n",
       "        -1.37353619, -1.60906805, -1.49344332, -1.63476244, -1.60906805],\n",
       "       [ 0.70770902,  0.87044012,  1.01604164,  1.11453678,  1.16164316,\n",
       "         1.39717502,  1.08456   ,  1.16592555,  1.2601383 ,  1.2644207 ]])"
      ]
     },
     "execution_count": 19,
     "metadata": {},
     "output_type": "execute_result"
    }
   ],
   "source": [
    "train[:2]"
   ]
  },
  {
   "cell_type": "code",
   "execution_count": 20,
   "id": "ff48ad3e",
   "metadata": {},
   "outputs": [
    {
     "data": {
      "text/plain": [
       "(3, 10)"
      ]
     },
     "execution_count": 20,
     "metadata": {},
     "output_type": "execute_result"
    }
   ],
   "source": [
    "test.shape"
   ]
  },
  {
   "cell_type": "markdown",
   "id": "6648db51",
   "metadata": {},
   "source": [
    "# Create Input and Target values"
   ]
  },
  {
   "cell_type": "code",
   "execution_count": 21,
   "id": "d832fd0d",
   "metadata": {},
   "outputs": [
    {
     "data": {
      "text/html": [
       "<div>\n",
       "<style scoped>\n",
       "    .dataframe tbody tr th:only-of-type {\n",
       "        vertical-align: middle;\n",
       "    }\n",
       "\n",
       "    .dataframe tbody tr th {\n",
       "        vertical-align: top;\n",
       "    }\n",
       "\n",
       "    .dataframe thead th {\n",
       "        text-align: right;\n",
       "    }\n",
       "</style>\n",
       "<table border=\"1\" class=\"dataframe\">\n",
       "  <thead>\n",
       "    <tr style=\"text-align: right;\">\n",
       "      <th></th>\n",
       "      <th>0</th>\n",
       "      <th>1</th>\n",
       "      <th>2</th>\n",
       "      <th>3</th>\n",
       "      <th>4</th>\n",
       "      <th>5</th>\n",
       "      <th>6</th>\n",
       "      <th>7</th>\n",
       "      <th>8</th>\n",
       "    </tr>\n",
       "  </thead>\n",
       "  <tbody>\n",
       "    <tr>\n",
       "      <th>0</th>\n",
       "      <td>-1.921683</td>\n",
       "      <td>-1.784646</td>\n",
       "      <td>-1.279323</td>\n",
       "      <td>-1.176546</td>\n",
       "      <td>-1.202240</td>\n",
       "      <td>-1.373536</td>\n",
       "      <td>-1.609068</td>\n",
       "      <td>-1.493443</td>\n",
       "      <td>-1.634762</td>\n",
       "    </tr>\n",
       "    <tr>\n",
       "      <th>1</th>\n",
       "      <td>0.707709</td>\n",
       "      <td>0.870440</td>\n",
       "      <td>1.016042</td>\n",
       "      <td>1.114537</td>\n",
       "      <td>1.161643</td>\n",
       "      <td>1.397175</td>\n",
       "      <td>1.084560</td>\n",
       "      <td>1.165926</td>\n",
       "      <td>1.260138</td>\n",
       "    </tr>\n",
       "    <tr>\n",
       "      <th>2</th>\n",
       "      <td>-1.112310</td>\n",
       "      <td>-1.155134</td>\n",
       "      <td>-0.816825</td>\n",
       "      <td>-0.731177</td>\n",
       "      <td>-0.825389</td>\n",
       "      <td>-0.911037</td>\n",
       "      <td>-0.812542</td>\n",
       "      <td>-0.791130</td>\n",
       "      <td>-0.564163</td>\n",
       "    </tr>\n",
       "    <tr>\n",
       "      <th>3</th>\n",
       "      <td>1.191620</td>\n",
       "      <td>1.559906</td>\n",
       "      <td>1.302962</td>\n",
       "      <td>1.041736</td>\n",
       "      <td>1.007477</td>\n",
       "      <td>0.823334</td>\n",
       "      <td>0.866158</td>\n",
       "      <td>1.105972</td>\n",
       "      <td>1.131666</td>\n",
       "    </tr>\n",
       "    <tr>\n",
       "      <th>4</th>\n",
       "      <td>0.189539</td>\n",
       "      <td>0.245210</td>\n",
       "      <td>0.360835</td>\n",
       "      <td>-0.020299</td>\n",
       "      <td>0.035373</td>\n",
       "      <td>0.279469</td>\n",
       "      <td>0.609214</td>\n",
       "      <td>0.515001</td>\n",
       "      <td>0.532131</td>\n",
       "    </tr>\n",
       "    <tr>\n",
       "      <th>5</th>\n",
       "      <td>-0.033146</td>\n",
       "      <td>0.198104</td>\n",
       "      <td>-0.131641</td>\n",
       "      <td>-0.487080</td>\n",
       "      <td>-0.829672</td>\n",
       "      <td>-0.555598</td>\n",
       "      <td>-0.439974</td>\n",
       "      <td>0.103891</td>\n",
       "      <td>0.138150</td>\n",
       "    </tr>\n",
       "    <tr>\n",
       "      <th>6</th>\n",
       "      <td>-0.217289</td>\n",
       "      <td>0.013961</td>\n",
       "      <td>0.258057</td>\n",
       "      <td>0.326576</td>\n",
       "      <td>0.318011</td>\n",
       "      <td>0.485024</td>\n",
       "      <td>0.407941</td>\n",
       "      <td>0.622061</td>\n",
       "      <td>0.669167</td>\n",
       "    </tr>\n",
       "  </tbody>\n",
       "</table>\n",
       "</div>"
      ],
      "text/plain": [
       "          0         1         2         3         4         5         6  \\\n",
       "0 -1.921683 -1.784646 -1.279323 -1.176546 -1.202240 -1.373536 -1.609068   \n",
       "1  0.707709  0.870440  1.016042  1.114537  1.161643  1.397175  1.084560   \n",
       "2 -1.112310 -1.155134 -0.816825 -0.731177 -0.825389 -0.911037 -0.812542   \n",
       "3  1.191620  1.559906  1.302962  1.041736  1.007477  0.823334  0.866158   \n",
       "4  0.189539  0.245210  0.360835 -0.020299  0.035373  0.279469  0.609214   \n",
       "5 -0.033146  0.198104 -0.131641 -0.487080 -0.829672 -0.555598 -0.439974   \n",
       "6 -0.217289  0.013961  0.258057  0.326576  0.318011  0.485024  0.407941   \n",
       "\n",
       "          7         8  \n",
       "0 -1.493443 -1.634762  \n",
       "1  1.165926  1.260138  \n",
       "2 -0.791130 -0.564163  \n",
       "3  1.105972  1.131666  \n",
       "4  0.515001  0.532131  \n",
       "5  0.103891  0.138150  \n",
       "6  0.622061  0.669167  "
      ]
     },
     "execution_count": 21,
     "metadata": {},
     "output_type": "execute_result"
    }
   ],
   "source": [
    "train_inputs = train[:,:9]\n",
    "\n",
    "\n",
    "pd.DataFrame(train_inputs, columns=np.arange(0,9,1))"
   ]
  },
  {
   "cell_type": "code",
   "execution_count": 22,
   "id": "19de1b8e",
   "metadata": {},
   "outputs": [
    {
     "data": {
      "text/plain": [
       "(7, 9, 1)"
      ]
     },
     "execution_count": 22,
     "metadata": {},
     "output_type": "execute_result"
    }
   ],
   "source": [
    "train_x = train_inputs[:,:,np.newaxis]\n",
    "\n",
    "train_x.shape "
   ]
  },
  {
   "cell_type": "code",
   "execution_count": 23,
   "id": "5447aae9",
   "metadata": {},
   "outputs": [
    {
     "data": {
      "text/html": [
       "<div>\n",
       "<style scoped>\n",
       "    .dataframe tbody tr th:only-of-type {\n",
       "        vertical-align: middle;\n",
       "    }\n",
       "\n",
       "    .dataframe tbody tr th {\n",
       "        vertical-align: top;\n",
       "    }\n",
       "\n",
       "    .dataframe thead th {\n",
       "        text-align: right;\n",
       "    }\n",
       "</style>\n",
       "<table border=\"1\" class=\"dataframe\">\n",
       "  <thead>\n",
       "    <tr style=\"text-align: right;\">\n",
       "      <th></th>\n",
       "      <th>9</th>\n",
       "    </tr>\n",
       "  </thead>\n",
       "  <tbody>\n",
       "    <tr>\n",
       "      <th>0</th>\n",
       "      <td>-1.609068</td>\n",
       "    </tr>\n",
       "    <tr>\n",
       "      <th>1</th>\n",
       "      <td>1.264421</td>\n",
       "    </tr>\n",
       "    <tr>\n",
       "      <th>2</th>\n",
       "      <td>-0.285807</td>\n",
       "    </tr>\n",
       "    <tr>\n",
       "      <th>3</th>\n",
       "      <td>1.410022</td>\n",
       "    </tr>\n",
       "    <tr>\n",
       "      <th>4</th>\n",
       "      <td>0.604931</td>\n",
       "    </tr>\n",
       "    <tr>\n",
       "      <th>5</th>\n",
       "      <td>0.300881</td>\n",
       "    </tr>\n",
       "    <tr>\n",
       "      <th>6</th>\n",
       "      <td>0.609214</td>\n",
       "    </tr>\n",
       "  </tbody>\n",
       "</table>\n",
       "</div>"
      ],
      "text/plain": [
       "          9\n",
       "0 -1.609068\n",
       "1  1.264421\n",
       "2 -0.285807\n",
       "3  1.410022\n",
       "4  0.604931\n",
       "5  0.300881\n",
       "6  0.609214"
      ]
     },
     "execution_count": 23,
     "metadata": {},
     "output_type": "execute_result"
    }
   ],
   "source": [
    "train_target = train[:,-1]\n",
    "\n",
    "\n",
    "pd.DataFrame(train_target, columns=['9'])"
   ]
  },
  {
   "cell_type": "code",
   "execution_count": 24,
   "id": "12bb01d6",
   "metadata": {},
   "outputs": [],
   "source": [
    "test_inputs = test[:,:9]"
   ]
  },
  {
   "cell_type": "code",
   "execution_count": 25,
   "id": "81387691",
   "metadata": {},
   "outputs": [
    {
     "data": {
      "text/plain": [
       "(3, 9, 1)"
      ]
     },
     "execution_count": 25,
     "metadata": {},
     "output_type": "execute_result"
    }
   ],
   "source": [
    "test_x = test_inputs[:,:,np.newaxis]\n",
    "\n",
    "test_x.shape"
   ]
  },
  {
   "cell_type": "markdown",
   "id": "b9efc073",
   "metadata": {},
   "source": [
    "## Set the target"
   ]
  },
  {
   "cell_type": "code",
   "execution_count": 26,
   "id": "c058d53b",
   "metadata": {},
   "outputs": [
    {
     "data": {
      "text/html": [
       "<div>\n",
       "<style scoped>\n",
       "    .dataframe tbody tr th:only-of-type {\n",
       "        vertical-align: middle;\n",
       "    }\n",
       "\n",
       "    .dataframe tbody tr th {\n",
       "        vertical-align: top;\n",
       "    }\n",
       "\n",
       "    .dataframe thead th {\n",
       "        text-align: right;\n",
       "    }\n",
       "</style>\n",
       "<table border=\"1\" class=\"dataframe\">\n",
       "  <thead>\n",
       "    <tr style=\"text-align: right;\">\n",
       "      <th></th>\n",
       "      <th>9</th>\n",
       "    </tr>\n",
       "  </thead>\n",
       "  <tbody>\n",
       "    <tr>\n",
       "      <th>0</th>\n",
       "      <td>1.153078</td>\n",
       "    </tr>\n",
       "    <tr>\n",
       "      <th>1</th>\n",
       "      <td>-1.476314</td>\n",
       "    </tr>\n",
       "    <tr>\n",
       "      <th>2</th>\n",
       "      <td>-0.075970</td>\n",
       "    </tr>\n",
       "  </tbody>\n",
       "</table>\n",
       "</div>"
      ],
      "text/plain": [
       "          9\n",
       "0  1.153078\n",
       "1 -1.476314\n",
       "2 -0.075970"
      ]
     },
     "execution_count": 26,
     "metadata": {},
     "output_type": "execute_result"
    }
   ],
   "source": [
    "# The last column (9) is TARGET\n",
    "\n",
    "test_target = test[:,-1]\n",
    "\n",
    "\n",
    "pd.DataFrame(test_target, columns=['9'])"
   ]
  },
  {
   "cell_type": "markdown",
   "id": "f6ae9e11",
   "metadata": {},
   "source": [
    "# Simple RNN"
   ]
  },
  {
   "cell_type": "code",
   "execution_count": 27,
   "id": "dae0ff17",
   "metadata": {},
   "outputs": [],
   "source": [
    "model = keras.models.Sequential([\n",
    "    keras.layers.SimpleRNN(32, activation='relu', input_shape=[9, 1]),\n",
    "    keras.layers.Dense(1, activation=None)\n",
    "])"
   ]
  },
  {
   "cell_type": "code",
   "execution_count": 28,
   "id": "db26b387",
   "metadata": {},
   "outputs": [
    {
     "name": "stdout",
     "output_type": "stream",
     "text": [
      "Epoch 1/30\n",
      "1/1 [==============================] - 3s 3s/step - loss: 0.6432\n",
      "Epoch 2/30\n",
      "1/1 [==============================] - 0s 16ms/step - loss: 0.6147\n",
      "Epoch 3/30\n",
      "1/1 [==============================] - 0s 27ms/step - loss: 0.5891\n",
      "Epoch 4/30\n",
      "1/1 [==============================] - 0s 8ms/step - loss: 0.5645\n",
      "Epoch 5/30\n",
      "1/1 [==============================] - 0s 15ms/step - loss: 0.5412\n",
      "Epoch 6/30\n",
      "1/1 [==============================] - 0s 13ms/step - loss: 0.5186\n",
      "Epoch 7/30\n",
      "1/1 [==============================] - 0s 13ms/step - loss: 0.4968\n",
      "Epoch 8/30\n",
      "1/1 [==============================] - 0s 18ms/step - loss: 0.4759\n",
      "Epoch 9/30\n",
      "1/1 [==============================] - 0s 16ms/step - loss: 0.4560\n",
      "Epoch 10/30\n",
      "1/1 [==============================] - 0s 19ms/step - loss: 0.4369\n",
      "Epoch 11/30\n",
      "1/1 [==============================] - 0s 8ms/step - loss: 0.4190\n",
      "Epoch 12/30\n",
      "1/1 [==============================] - 0s 19ms/step - loss: 0.4019\n",
      "Epoch 13/30\n",
      "1/1 [==============================] - 0s 11ms/step - loss: 0.3856\n",
      "Epoch 14/30\n",
      "1/1 [==============================] - 0s 24ms/step - loss: 0.3697\n",
      "Epoch 15/30\n",
      "1/1 [==============================] - 0s 13ms/step - loss: 0.3552\n",
      "Epoch 16/30\n",
      "1/1 [==============================] - 0s 15ms/step - loss: 0.3407\n",
      "Epoch 17/30\n",
      "1/1 [==============================] - 0s 16ms/step - loss: 0.3270\n",
      "Epoch 18/30\n",
      "1/1 [==============================] - 0s 17ms/step - loss: 0.3140\n",
      "Epoch 19/30\n",
      "1/1 [==============================] - 0s 16ms/step - loss: 0.3010\n",
      "Epoch 20/30\n",
      "1/1 [==============================] - 0s 18ms/step - loss: 0.2887\n",
      "Epoch 21/30\n",
      "1/1 [==============================] - 0s 15ms/step - loss: 0.2783\n",
      "Epoch 22/30\n",
      "1/1 [==============================] - 0s 22ms/step - loss: 0.2674\n",
      "Epoch 23/30\n",
      "1/1 [==============================] - 0s 21ms/step - loss: 0.2569\n",
      "Epoch 24/30\n",
      "1/1 [==============================] - 0s 13ms/step - loss: 0.2471\n",
      "Epoch 25/30\n",
      "1/1 [==============================] - 0s 13ms/step - loss: 0.2375\n",
      "Epoch 26/30\n",
      "1/1 [==============================] - 0s 17ms/step - loss: 0.2280\n",
      "Epoch 27/30\n",
      "1/1 [==============================] - 0s 16ms/step - loss: 0.2184\n",
      "Epoch 28/30\n",
      "1/1 [==============================] - 0s 22ms/step - loss: 0.2087\n",
      "Epoch 29/30\n",
      "1/1 [==============================] - 0s 14ms/step - loss: 0.1988\n",
      "Epoch 30/30\n",
      "1/1 [==============================] - 0s 16ms/step - loss: 0.1891\n"
     ]
    }
   ],
   "source": [
    "np.random.seed(42)\n",
    "tf.random.set_seed(42)\n",
    "\n",
    "model.compile(loss=\"mse\", optimizer='Adam')\n",
    "\n",
    "history = model.fit(train_x, train_target, epochs=30)"
   ]
  },
  {
   "cell_type": "markdown",
   "id": "c74b0efd",
   "metadata": {},
   "source": [
    "### Predictions"
   ]
  },
  {
   "cell_type": "code",
   "execution_count": 29,
   "id": "b7892ffe",
   "metadata": {},
   "outputs": [
    {
     "name": "stdout",
     "output_type": "stream",
     "text": [
      "1/1 [==============================] - 0s 372ms/step\n"
     ]
    }
   ],
   "source": [
    "#Predict:\n",
    "y_pred = model.predict(test_x)"
   ]
  },
  {
   "cell_type": "code",
   "execution_count": 30,
   "id": "6896cac8",
   "metadata": {},
   "outputs": [
    {
     "data": {
      "text/html": [
       "<div>\n",
       "<style scoped>\n",
       "    .dataframe tbody tr th:only-of-type {\n",
       "        vertical-align: middle;\n",
       "    }\n",
       "\n",
       "    .dataframe tbody tr th {\n",
       "        vertical-align: top;\n",
       "    }\n",
       "\n",
       "    .dataframe thead th {\n",
       "        text-align: right;\n",
       "    }\n",
       "</style>\n",
       "<table border=\"1\" class=\"dataframe\">\n",
       "  <thead>\n",
       "    <tr style=\"text-align: right;\">\n",
       "      <th></th>\n",
       "      <th>actual</th>\n",
       "      <th>predicted</th>\n",
       "    </tr>\n",
       "  </thead>\n",
       "  <tbody>\n",
       "    <tr>\n",
       "      <th>0</th>\n",
       "      <td>12.09</td>\n",
       "      <td>10.760000</td>\n",
       "    </tr>\n",
       "    <tr>\n",
       "      <th>1</th>\n",
       "      <td>5.95</td>\n",
       "      <td>6.183376</td>\n",
       "    </tr>\n",
       "    <tr>\n",
       "      <th>2</th>\n",
       "      <td>9.22</td>\n",
       "      <td>9.340603</td>\n",
       "    </tr>\n",
       "  </tbody>\n",
       "</table>\n",
       "</div>"
      ],
      "text/plain": [
       "   actual  predicted\n",
       "0   12.09  10.760000\n",
       "1    5.95   6.183376\n",
       "2    9.22   9.340603"
      ]
     },
     "execution_count": 30,
     "metadata": {},
     "output_type": "execute_result"
    }
   ],
   "source": [
    "# Remember, these are standardized values. \n",
    "\n",
    "comparison = pd.DataFrame()\n",
    "\n",
    "comparison['actual'] = scaler.inverse_transform([test_target]).flatten()\n",
    "comparison['predicted'] = scaler.inverse_transform(y_pred).flatten()\n",
    "comparison"
   ]
  },
  {
   "cell_type": "code",
   "execution_count": 31,
   "id": "8b09f117",
   "metadata": {},
   "outputs": [
    {
     "data": {
      "text/plain": [
       "0.61263631589863"
      ]
     },
     "execution_count": 31,
     "metadata": {},
     "output_type": "execute_result"
    }
   ],
   "source": [
    "mean_squared_error(comparison['actual'], comparison['predicted'])"
   ]
  },
  {
   "cell_type": "code",
   "execution_count": 32,
   "id": "b97241c6",
   "metadata": {},
   "outputs": [
    {
     "data": {
      "image/png": "[encoded data removed]",
      "text/plain": [
       "<Figure size 640x480 with 1 Axes>"
      ]
     },
     "metadata": {},
     "output_type": "display_data"
    }
   ],
   "source": [
    "plt.plot(comparison['actual'], label = 'actual')\n",
    "plt.plot(comparison['predicted'], label = 'predicted')\n",
    "\n",
    "plt.legend()\n",
    "\n",
    "plt.show()"
   ]
  },
  {
   "cell_type": "code",
   "execution_count": 33,
   "id": "36693efd",
   "metadata": {},
   "outputs": [],
   "source": [
    "# LSTM with more layers"
   ]
  },
  {
   "cell_type": "code",
   "execution_count": 34,
   "id": "1469eb3d",
   "metadata": {},
   "outputs": [],
   "source": [
    "model = keras.models.Sequential([\n",
    "    keras.layers.LSTM(32, activation='relu', input_shape=[9, 1]),\n",
    "    keras.layers.Dense(1, activation=None)\n",
    "])"
   ]
  },
  {
   "cell_type": "code",
   "execution_count": 35,
   "id": "04dd08c0",
   "metadata": {},
   "outputs": [
    {
     "name": "stdout",
     "output_type": "stream",
     "text": [
      "Epoch 1/30\n",
      "1/1 [==============================] - 3s 3s/step - loss: 0.8803\n",
      "Epoch 2/30\n",
      "1/1 [==============================] - 0s 16ms/step - loss: 0.8602\n",
      "Epoch 3/30\n",
      "1/1 [==============================] - 0s 13ms/step - loss: 0.8403\n",
      "Epoch 4/30\n",
      "1/1 [==============================] - 0s 16ms/step - loss: 0.8206\n",
      "Epoch 5/30\n",
      "1/1 [==============================] - 0s 15ms/step - loss: 0.8012\n",
      "Epoch 6/30\n",
      "1/1 [==============================] - 0s 18ms/step - loss: 0.7820\n",
      "Epoch 7/30\n",
      "1/1 [==============================] - 0s 23ms/step - loss: 0.7630\n",
      "Epoch 8/30\n",
      "1/1 [==============================] - 0s 21ms/step - loss: 0.7440\n",
      "Epoch 9/30\n",
      "1/1 [==============================] - 0s 15ms/step - loss: 0.7251\n",
      "Epoch 10/30\n",
      "1/1 [==============================] - 0s 16ms/step - loss: 0.7063\n",
      "Epoch 11/30\n",
      "1/1 [==============================] - 0s 16ms/step - loss: 0.6877\n",
      "Epoch 12/30\n",
      "1/1 [==============================] - 0s 18ms/step - loss: 0.6694\n",
      "Epoch 13/30\n",
      "1/1 [==============================] - 0s 14ms/step - loss: 0.6512\n",
      "Epoch 14/30\n",
      "1/1 [==============================] - 0s 17ms/step - loss: 0.6331\n",
      "Epoch 15/30\n",
      "1/1 [==============================] - 0s 23ms/step - loss: 0.6151\n",
      "Epoch 16/30\n",
      "1/1 [==============================] - 0s 17ms/step - loss: 0.5971\n",
      "Epoch 17/30\n",
      "1/1 [==============================] - 0s 18ms/step - loss: 0.5790\n",
      "Epoch 18/30\n",
      "1/1 [==============================] - 0s 20ms/step - loss: 0.5609\n",
      "Epoch 19/30\n",
      "1/1 [==============================] - 0s 40ms/step - loss: 0.5426\n",
      "Epoch 20/30\n",
      "1/1 [==============================] - 0s 17ms/step - loss: 0.5242\n",
      "Epoch 21/30\n",
      "1/1 [==============================] - 0s 19ms/step - loss: 0.5057\n",
      "Epoch 22/30\n",
      "1/1 [==============================] - 0s 20ms/step - loss: 0.4872\n",
      "Epoch 23/30\n",
      "1/1 [==============================] - 0s 16ms/step - loss: 0.4686\n",
      "Epoch 24/30\n",
      "1/1 [==============================] - 0s 16ms/step - loss: 0.4500\n",
      "Epoch 25/30\n",
      "1/1 [==============================] - 0s 18ms/step - loss: 0.4312\n",
      "Epoch 26/30\n",
      "1/1 [==============================] - 0s 13ms/step - loss: 0.4123\n",
      "Epoch 27/30\n",
      "1/1 [==============================] - 0s 15ms/step - loss: 0.3933\n",
      "Epoch 28/30\n",
      "1/1 [==============================] - 0s 17ms/step - loss: 0.3740\n",
      "Epoch 29/30\n",
      "1/1 [==============================] - 0s 11ms/step - loss: 0.3545\n",
      "Epoch 30/30\n",
      "1/1 [==============================] - 0s 16ms/step - loss: 0.3351\n"
     ]
    }
   ],
   "source": [
    "np.random.seed(42)\n",
    "tf.random.set_seed(42)\n",
    "\n",
    "model.compile(loss=\"mse\", optimizer='Adam')\n",
    "\n",
    "history = model.fit(train_x, train_target, epochs=30)"
   ]
  },
  {
   "cell_type": "markdown",
   "id": "e3ac7080",
   "metadata": {},
   "source": [
    "### Predictions"
   ]
  },
  {
   "cell_type": "code",
   "execution_count": 36,
   "id": "c32575d2",
   "metadata": {},
   "outputs": [
    {
     "name": "stdout",
     "output_type": "stream",
     "text": [
      "1/1 [==============================] - 0s 360ms/step\n"
     ]
    }
   ],
   "source": [
    "#Predict:\n",
    "y_pred = model.predict(test_x)"
   ]
  },
  {
   "cell_type": "code",
   "execution_count": 37,
   "id": "86937f7f",
   "metadata": {},
   "outputs": [
    {
     "data": {
      "text/html": [
       "<div>\n",
       "<style scoped>\n",
       "    .dataframe tbody tr th:only-of-type {\n",
       "        vertical-align: middle;\n",
       "    }\n",
       "\n",
       "    .dataframe tbody tr th {\n",
       "        vertical-align: top;\n",
       "    }\n",
       "\n",
       "    .dataframe thead th {\n",
       "        text-align: right;\n",
       "    }\n",
       "</style>\n",
       "<table border=\"1\" class=\"dataframe\">\n",
       "  <thead>\n",
       "    <tr style=\"text-align: right;\">\n",
       "      <th></th>\n",
       "      <th>actual</th>\n",
       "      <th>predicted</th>\n",
       "    </tr>\n",
       "  </thead>\n",
       "  <tbody>\n",
       "    <tr>\n",
       "      <th>0</th>\n",
       "      <td>12.09</td>\n",
       "      <td>11.646945</td>\n",
       "    </tr>\n",
       "    <tr>\n",
       "      <th>1</th>\n",
       "      <td>5.95</td>\n",
       "      <td>8.635406</td>\n",
       "    </tr>\n",
       "    <tr>\n",
       "      <th>2</th>\n",
       "      <td>9.22</td>\n",
       "      <td>9.474399</td>\n",
       "    </tr>\n",
       "  </tbody>\n",
       "</table>\n",
       "</div>"
      ],
      "text/plain": [
       "   actual  predicted\n",
       "0   12.09  11.646945\n",
       "1    5.95   8.635406\n",
       "2    9.22   9.474399"
      ]
     },
     "execution_count": 37,
     "metadata": {},
     "output_type": "execute_result"
    }
   ],
   "source": [
    "#Remember, these are standardized values. \n",
    "\n",
    "comparison = pd.DataFrame()\n",
    "\n",
    "comparison['actual'] = scaler.inverse_transform([test_target]).flatten()\n",
    "comparison['predicted'] = scaler.inverse_transform(y_pred).flatten()\n",
    "comparison"
   ]
  },
  {
   "cell_type": "code",
   "execution_count": 38,
   "id": "f11afc8b",
   "metadata": {},
   "outputs": [
    {
     "data": {
      "text/plain": [
       "2.490808142117404"
      ]
     },
     "execution_count": 38,
     "metadata": {},
     "output_type": "execute_result"
    }
   ],
   "source": [
    "mean_squared_error(comparison['actual'], comparison['predicted'])"
   ]
  },
  {
   "cell_type": "code",
   "execution_count": 39,
   "id": "9713e68d",
   "metadata": {},
   "outputs": [
    {
     "data": {
      "image/png": "[encoded data removed]",
      "text/plain": [
       "<Figure size 640x480 with 1 Axes>"
      ]
     },
     "metadata": {},
     "output_type": "display_data"
    }
   ],
   "source": [
    "plt.plot(comparison['actual'], label = 'actual')\n",
    "plt.plot(comparison['predicted'], label = 'predicted')\n",
    "\n",
    "plt.legend()\n",
    "\n",
    "plt.show()"
   ]
  },
  {
   "cell_type": "markdown",
   "id": "e019f2dd",
   "metadata": {},
   "source": [
    "# GRU (with more layers)"
   ]
  },
  {
   "cell_type": "code",
   "execution_count": 40,
   "id": "d12cd895",
   "metadata": {},
   "outputs": [],
   "source": [
    "model = keras.models.Sequential([\n",
    "    keras.layers.GRU(32, activation='relu', return_sequences=True, input_shape=[9, 1]),\n",
    "    keras.layers.GRU(32, activation='relu', return_sequences=False),\n",
    "    keras.layers.Dense(1, activation=None)\n",
    "])"
   ]
  },
  {
   "cell_type": "code",
   "execution_count": 41,
   "id": "a6ec4d72",
   "metadata": {},
   "outputs": [
    {
     "name": "stdout",
     "output_type": "stream",
     "text": [
      "Epoch 1/30\n",
      "1/1 [==============================] - 6s 6s/step - loss: 1.0162\n",
      "Epoch 2/30\n",
      "1/1 [==============================] - 0s 32ms/step - loss: 0.9197\n",
      "Epoch 3/30\n",
      "1/1 [==============================] - 0s 22ms/step - loss: 0.8605\n",
      "Epoch 4/30\n",
      "1/1 [==============================] - 0s 21ms/step - loss: 0.8124\n",
      "Epoch 5/30\n",
      "1/1 [==============================] - 0s 21ms/step - loss: 0.7696\n",
      "Epoch 6/30\n",
      "1/1 [==============================] - 0s 16ms/step - loss: 0.7307\n",
      "Epoch 7/30\n",
      "1/1 [==============================] - 0s 24ms/step - loss: 0.6936\n",
      "Epoch 8/30\n",
      "1/1 [==============================] - 0s 23ms/step - loss: 0.6579\n",
      "Epoch 9/30\n",
      "1/1 [==============================] - 0s 21ms/step - loss: 0.6236\n",
      "Epoch 10/30\n",
      "1/1 [==============================] - 0s 26ms/step - loss: 0.5896\n",
      "Epoch 11/30\n",
      "1/1 [==============================] - 0s 18ms/step - loss: 0.5565\n",
      "Epoch 12/30\n",
      "1/1 [==============================] - 0s 23ms/step - loss: 0.5238\n",
      "Epoch 13/30\n",
      "1/1 [==============================] - 0s 25ms/step - loss: 0.4897\n",
      "Epoch 14/30\n",
      "1/1 [==============================] - 0s 29ms/step - loss: 0.4558\n",
      "Epoch 15/30\n",
      "1/1 [==============================] - 0s 23ms/step - loss: 0.4227\n",
      "Epoch 16/30\n",
      "1/1 [==============================] - 0s 24ms/step - loss: 0.3909\n",
      "Epoch 17/30\n",
      "1/1 [==============================] - 0s 20ms/step - loss: 0.3579\n",
      "Epoch 18/30\n",
      "1/1 [==============================] - 0s 25ms/step - loss: 0.3269\n",
      "Epoch 19/30\n",
      "1/1 [==============================] - 0s 28ms/step - loss: 0.2977\n",
      "Epoch 20/30\n",
      "1/1 [==============================] - 0s 22ms/step - loss: 0.2699\n",
      "Epoch 21/30\n",
      "1/1 [==============================] - 0s 25ms/step - loss: 0.2431\n",
      "Epoch 22/30\n",
      "1/1 [==============================] - 0s 22ms/step - loss: 0.2188\n",
      "Epoch 23/30\n",
      "1/1 [==============================] - 0s 19ms/step - loss: 0.1946\n",
      "Epoch 24/30\n",
      "1/1 [==============================] - 0s 23ms/step - loss: 0.1734\n",
      "Epoch 25/30\n",
      "1/1 [==============================] - 0s 27ms/step - loss: 0.1528\n",
      "Epoch 26/30\n",
      "1/1 [==============================] - 0s 26ms/step - loss: 0.1356\n",
      "Epoch 27/30\n",
      "1/1 [==============================] - 0s 16ms/step - loss: 0.1189\n",
      "Epoch 28/30\n",
      "1/1 [==============================] - 0s 20ms/step - loss: 0.1051\n",
      "Epoch 29/30\n",
      "1/1 [==============================] - 0s 22ms/step - loss: 0.0922\n",
      "Epoch 30/30\n",
      "1/1 [==============================] - 0s 21ms/step - loss: 0.0819\n"
     ]
    }
   ],
   "source": [
    "np.random.seed(42)\n",
    "tf.random.set_seed(42)\n",
    "\n",
    "model.compile(loss=\"mse\", optimizer='RMSprop')\n",
    "\n",
    "history = model.fit(train_x, train_target, epochs=30)"
   ]
  },
  {
   "cell_type": "markdown",
   "id": "7196b355",
   "metadata": {},
   "source": [
    "### Predictions"
   ]
  },
  {
   "cell_type": "code",
   "execution_count": 42,
   "id": "60172c48",
   "metadata": {},
   "outputs": [
    {
     "name": "stdout",
     "output_type": "stream",
     "text": [
      "1/1 [==============================] - 1s 805ms/step\n"
     ]
    }
   ],
   "source": [
    "#Predict:\n",
    "y_pred = model.predict(test_x)"
   ]
  },
  {
   "cell_type": "code",
   "execution_count": 43,
   "id": "6d34e295",
   "metadata": {},
   "outputs": [
    {
     "data": {
      "text/html": [
       "<div>\n",
       "<style scoped>\n",
       "    .dataframe tbody tr th:only-of-type {\n",
       "        vertical-align: middle;\n",
       "    }\n",
       "\n",
       "    .dataframe tbody tr th {\n",
       "        vertical-align: top;\n",
       "    }\n",
       "\n",
       "    .dataframe thead th {\n",
       "        text-align: right;\n",
       "    }\n",
       "</style>\n",
       "<table border=\"1\" class=\"dataframe\">\n",
       "  <thead>\n",
       "    <tr style=\"text-align: right;\">\n",
       "      <th></th>\n",
       "      <th>actual</th>\n",
       "      <th>predicted</th>\n",
       "    </tr>\n",
       "  </thead>\n",
       "  <tbody>\n",
       "    <tr>\n",
       "      <th>0</th>\n",
       "      <td>12.09</td>\n",
       "      <td>11.646945</td>\n",
       "    </tr>\n",
       "    <tr>\n",
       "      <th>1</th>\n",
       "      <td>5.95</td>\n",
       "      <td>8.635406</td>\n",
       "    </tr>\n",
       "    <tr>\n",
       "      <th>2</th>\n",
       "      <td>9.22</td>\n",
       "      <td>9.474399</td>\n",
       "    </tr>\n",
       "  </tbody>\n",
       "</table>\n",
       "</div>"
      ],
      "text/plain": [
       "   actual  predicted\n",
       "0   12.09  11.646945\n",
       "1    5.95   8.635406\n",
       "2    9.22   9.474399"
      ]
     },
     "execution_count": 43,
     "metadata": {},
     "output_type": "execute_result"
    }
   ],
   "source": [
    "#Remember, these are standardized values. \n",
    "\n",
    "comparision = pd.DataFrame()\n",
    "\n",
    "comparision['actual'] = scaler.inverse_transform([test_target]).flatten()\n",
    "comparision['predicted'] = scaler.inverse_transform(y_pred).flatten()\n",
    "comparison"
   ]
  },
  {
   "cell_type": "code",
   "execution_count": 44,
   "id": "7a029484",
   "metadata": {},
   "outputs": [
    {
     "data": {
      "text/plain": [
       "2.490808142117404"
      ]
     },
     "execution_count": 44,
     "metadata": {},
     "output_type": "execute_result"
    }
   ],
   "source": [
    "mean_squared_error(comparison['actual'], comparison['predicted'])"
   ]
  },
  {
   "cell_type": "code",
   "execution_count": 45,
   "id": "653bce0f",
   "metadata": {},
   "outputs": [
    {
     "data": {
      "image/png": "[encoded data removed]",
      "text/plain": [
       "<Figure size 640x480 with 1 Axes>"
      ]
     },
     "metadata": {},
     "output_type": "display_data"
    }
   ],
   "source": [
    "plt.plot(comparison['actual'], label = 'actual')\n",
    "plt.plot(comparison['predicted'], label = 'predicted')\n",
    "\n",
    "plt.legend()\n",
    "\n",
    "plt.show()"
   ]
  },
  {
   "cell_type": "markdown",
   "id": "d660825d",
   "metadata": {},
   "source": [
    "# Conv1D"
   ]
  },
  {
   "cell_type": "code",
   "execution_count": 46,
   "id": "a25a8358",
   "metadata": {},
   "outputs": [],
   "source": [
    "model = keras.models.Sequential([\n",
    "    keras.layers.Conv1D(filters=20, kernel_size=3, strides=1, padding=\"valid\", input_shape=[9, 1]),\n",
    "    keras.layers.GRU(32, activation='relu', return_sequences=True),\n",
    "    keras.layers.GRU(32, activation='relu', return_sequences=False),\n",
    "    keras.layers.Dense(1, activation=None)\n",
    "])"
   ]
  },
  {
   "cell_type": "code",
   "execution_count": 47,
   "id": "dc9e688f",
   "metadata": {},
   "outputs": [
    {
     "name": "stdout",
     "output_type": "stream",
     "text": [
      "Epoch 1/30\n",
      "1/1 [==============================] - 7s 7s/step - loss: 1.0585\n",
      "Epoch 2/30\n",
      "1/1 [==============================] - 0s 24ms/step - loss: 1.0123\n",
      "Epoch 3/30\n",
      "1/1 [==============================] - 0s 22ms/step - loss: 0.9709\n",
      "Epoch 4/30\n",
      "1/1 [==============================] - 0s 21ms/step - loss: 0.9311\n",
      "Epoch 5/30\n",
      "1/1 [==============================] - 0s 20ms/step - loss: 0.8928\n",
      "Epoch 6/30\n",
      "1/1 [==============================] - 0s 23ms/step - loss: 0.8585\n",
      "Epoch 7/30\n",
      "1/1 [==============================] - 0s 25ms/step - loss: 0.8251\n",
      "Epoch 8/30\n",
      "1/1 [==============================] - 0s 24ms/step - loss: 0.7927\n",
      "Epoch 9/30\n",
      "1/1 [==============================] - 0s 18ms/step - loss: 0.7600\n",
      "Epoch 10/30\n",
      "1/1 [==============================] - 0s 22ms/step - loss: 0.7272\n",
      "Epoch 11/30\n",
      "1/1 [==============================] - 0s 31ms/step - loss: 0.6952\n",
      "Epoch 12/30\n",
      "1/1 [==============================] - 0s 23ms/step - loss: 0.6633\n",
      "Epoch 13/30\n",
      "1/1 [==============================] - 0s 21ms/step - loss: 0.6321\n",
      "Epoch 14/30\n",
      "1/1 [==============================] - 0s 21ms/step - loss: 0.6019\n",
      "Epoch 15/30\n",
      "1/1 [==============================] - 0s 18ms/step - loss: 0.5745\n",
      "Epoch 16/30\n",
      "1/1 [==============================] - 0s 22ms/step - loss: 0.5488\n",
      "Epoch 17/30\n",
      "1/1 [==============================] - 0s 24ms/step - loss: 0.5241\n",
      "Epoch 18/30\n",
      "1/1 [==============================] - 0s 24ms/step - loss: 0.5002\n",
      "Epoch 19/30\n",
      "1/1 [==============================] - 0s 24ms/step - loss: 0.4770\n",
      "Epoch 20/30\n",
      "1/1 [==============================] - 0s 22ms/step - loss: 0.4549\n",
      "Epoch 21/30\n",
      "1/1 [==============================] - 0s 22ms/step - loss: 0.4338\n",
      "Epoch 22/30\n",
      "1/1 [==============================] - 0s 28ms/step - loss: 0.4134\n",
      "Epoch 23/30\n",
      "1/1 [==============================] - 0s 20ms/step - loss: 0.3933\n",
      "Epoch 24/30\n",
      "1/1 [==============================] - 0s 24ms/step - loss: 0.3733\n",
      "Epoch 25/30\n",
      "1/1 [==============================] - 0s 25ms/step - loss: 0.3530\n",
      "Epoch 26/30\n",
      "1/1 [==============================] - 0s 21ms/step - loss: 0.3322\n",
      "Epoch 27/30\n",
      "1/1 [==============================] - 0s 23ms/step - loss: 0.3104\n",
      "Epoch 28/30\n",
      "1/1 [==============================] - 0s 27ms/step - loss: 0.2878\n",
      "Epoch 29/30\n",
      "1/1 [==============================] - 0s 27ms/step - loss: 0.2646\n",
      "Epoch 30/30\n",
      "1/1 [==============================] - 0s 24ms/step - loss: 0.2411\n"
     ]
    }
   ],
   "source": [
    "np.random.seed(42)\n",
    "tf.random.set_seed(42)\n",
    "\n",
    "model.compile(loss=\"mse\", optimizer='Adam')\n",
    "\n",
    "history = model.fit(train_x, train_target, epochs=30)"
   ]
  },
  {
   "cell_type": "markdown",
   "id": "c710d9eb",
   "metadata": {},
   "source": [
    "### Predictions"
   ]
  },
  {
   "cell_type": "code",
   "execution_count": 48,
   "id": "d4e762ab",
   "metadata": {},
   "outputs": [
    {
     "name": "stdout",
     "output_type": "stream",
     "text": [
      "1/1 [==============================] - 1s 1s/step\n"
     ]
    }
   ],
   "source": [
    "#Predict:\n",
    "y_pred = model.predict(test_x)"
   ]
  },
  {
   "cell_type": "code",
   "execution_count": 49,
   "id": "0375f85e",
   "metadata": {},
   "outputs": [
    {
     "data": {
      "text/html": [
       "<div>\n",
       "<style scoped>\n",
       "    .dataframe tbody tr th:only-of-type {\n",
       "        vertical-align: middle;\n",
       "    }\n",
       "\n",
       "    .dataframe tbody tr th {\n",
       "        vertical-align: top;\n",
       "    }\n",
       "\n",
       "    .dataframe thead th {\n",
       "        text-align: right;\n",
       "    }\n",
       "</style>\n",
       "<table border=\"1\" class=\"dataframe\">\n",
       "  <thead>\n",
       "    <tr style=\"text-align: right;\">\n",
       "      <th></th>\n",
       "      <th>actual</th>\n",
       "      <th>predicted</th>\n",
       "    </tr>\n",
       "  </thead>\n",
       "  <tbody>\n",
       "    <tr>\n",
       "      <th>0</th>\n",
       "      <td>12.09</td>\n",
       "      <td>10.998363</td>\n",
       "    </tr>\n",
       "    <tr>\n",
       "      <th>1</th>\n",
       "      <td>5.95</td>\n",
       "      <td>5.959792</td>\n",
       "    </tr>\n",
       "    <tr>\n",
       "      <th>2</th>\n",
       "      <td>9.22</td>\n",
       "      <td>8.915267</td>\n",
       "    </tr>\n",
       "  </tbody>\n",
       "</table>\n",
       "</div>"
      ],
      "text/plain": [
       "   actual  predicted\n",
       "0   12.09  10.998363\n",
       "1    5.95   5.959792\n",
       "2    9.22   8.915267"
      ]
     },
     "execution_count": 49,
     "metadata": {},
     "output_type": "execute_result"
    }
   ],
   "source": [
    "#Remember, these are standardized values. \n",
    "\n",
    "comparison = pd.DataFrame()\n",
    "\n",
    "comparison['actual'] = scaler.inverse_transform([test_target]).flatten()\n",
    "comparison['predicted'] = scaler.inverse_transform(y_pred).flatten()\n",
    "comparison"
   ]
  },
  {
   "cell_type": "code",
   "execution_count": 50,
   "id": "706e941c",
   "metadata": {},
   "outputs": [
    {
     "data": {
      "text/plain": [
       "0.42820945075203304"
      ]
     },
     "execution_count": 50,
     "metadata": {},
     "output_type": "execute_result"
    }
   ],
   "source": [
    "mean_squared_error(comparison['actual'], comparison['predicted'])"
   ]
  },
  {
   "cell_type": "markdown",
   "id": "d2335eb1",
   "metadata": {},
   "source": [
    "From the above reults we got the mean squaree error as 0.42 for convolution model which is low when compared to RNN,GRU models .So, we can say Convultion model performmed better in predicting closing stock prices.\n"
   ]
  }
 ],
 "metadata": {
  "kernelspec": {
   "display_name": "Python 3 (ipykernel)",
   "language": "python",
   "name": "python3"
  },
  "language_info": {
   "codemirror_mode": {
    "name": "ipython",
    "version": 3
   },
   "file_extension": ".py",
   "mimetype": "text/x-python",
   "name": "python",
   "nbconvert_exporter": "python",
   "pygments_lexer": "ipython3",
   "version": "3.9.13"
  }
 },
 "nbformat": 4,
 "nbformat_minor": 5
}
