{
 "cells": [
  {
   "cell_type": "code",
   "execution_count": 29,
   "id": "e3a80b5e-5440-4054-b237-29275e3af3e2",
   "metadata": {},
   "outputs": [
    {
     "name": "stdout",
     "output_type": "stream",
     "text": [
      "\n",
      "*****************************************************\n",
      "* The Lawn mover ownership prediction using the poly svm model*\n",
      "*****************************************************\n",
      "\n"
     ]
    },
    {
     "name": "stdin",
     "output_type": "stream",
     "text": [
      "Enter the  income of the owner:  84\n",
      "Enter the  lot size of the owner:  17.6\n"
     ]
    },
    {
     "name": "stdout",
     "output_type": "stream",
     "text": [
      "\n",
      " The Lawn mover ownership prediction using the poly svm model 0.5639, indicated that it is Nonowner.\n",
      "\n"
     ]
    }
   ],
   "source": [
    "\n",
    "import pandas as pd\n",
    "import numpy as np\n",
    "import matplotlib.pyplot as plt\n",
    "from sklearn.metrics import confusion_matrix\n",
    "import pickle\n",
    "# Uncomment the following snippet of code to debug problems with finding the .pkl file path\n",
    "# This snippet of code will exit the program and print the current working directory.\n",
    "# import os\n",
    "# exit(os.getcwd())\n",
    "svm_poly = pickle.load(open('C:/Users/ssand/OneDrive/Desktop/WE03//Pickletest.csv', \n",
    "\"rb\"))\n",
    "print(\"\\n*****************************************************\")\n",
    "print(\"* The Lawn mover ownership prediction using the poly svm model*\")\n",
    "print(\"*****************************************************\\n\")\n",
    "Income = float(input(\"Enter the  income of the owner: \"))\n",
    "Lot_Size = float(input(\"Enter the  lot size of the owner: \"))\n",
    "df = pd.DataFrame({'Income': [Income], 'Lot_Size':[Lot_Size]})\n",
    "result = svm_poly.predict(df)\n",
    "probability = svm_poly.predict_proba(df)\n",
    "Ownership= ('Owner', 'Nonowner')\n",
    "print(f\"\\n The Lawn mover ownership prediction using the poly svm model {probability[0][1]:.4f}, indicated that it is {Ownership[result[0]]}.\\n\")\n"
   ]
  },
  {
   "cell_type": "code",
   "execution_count": null,
   "id": "a2f13b54-257f-40c9-9777-56ff1e42b12f",
   "metadata": {},
   "outputs": [],
   "source": []
  }
 ],
 "metadata": {
  "kernelspec": {
   "display_name": "Python 3 (ipykernel)",
   "language": "python",
   "name": "python3"
  },
  "language_info": {
   "codemirror_mode": {
    "name": "ipython",
    "version": 3
   },
   "file_extension": ".py",
   "mimetype": "text/x-python",
   "name": "python",
   "nbconvert_exporter": "python",
   "pygments_lexer": "ipython3",
   "version": "3.9.13"
  }
 },
 "nbformat": 4,
 "nbformat_minor": 5
}
